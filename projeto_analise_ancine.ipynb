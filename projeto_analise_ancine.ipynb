{
  "cells": [
    {
      "cell_type": "markdown",
      "metadata": {
        "id": "view-in-github",
        "colab_type": "text"
      },
      "source": [
        "<a href=\"https://colab.research.google.com/github/Ibertson86/projeto-eda-ebac/blob/main/projeto_analise_ancine.ipynb\" target=\"_parent\"><img src=\"https://colab.research.google.com/assets/colab-badge.svg\" alt=\"Open In Colab\"/></a>"
      ]
    },
    {
      "cell_type": "markdown",
      "metadata": {
        "id": "KJqp9AANOCtf"
      },
      "source": [
        "<img src=\"https://raw.githubusercontent.com/andre-marcos-perez/ebac-course-utils/main/media/logo/newebac_logo_black_half.png\" alt=\"ebac-logo\">\n",
        "\n",
        "---\n",
        "\n",
        "# Análise de Dados: Análise Exploratória de Dados de Logística\n",
        "\n",
        "\n",
        "---\n",
        "\n",
        "Aluno: Ibertson Medeiros Silva\n",
        "\n",
        "github: https://github.com/Ibertson86"
      ]
    },
    {
      "cell_type": "markdown",
      "metadata": {
        "id": "SmoHgt-lwkpD"
      },
      "source": [
        "---"
      ]
    },
    {
      "cell_type": "markdown",
      "metadata": {
        "id": "eJ283bopLqLU"
      },
      "source": [
        "## 1 - Contexto"
      ]
    },
    {
      "cell_type": "markdown",
      "metadata": {
        "id": "0gmSAOdOLqLU"
      },
      "source": [
        "* O seguinte notebook visa criar uma análise exploratória de dados, com informações\n",
        "fornecidas publicamente pela ANCINE(Agência Nacional de Cinema). O objetivo é\n",
        "fazer uma análise das salas de exibição de filmes e dos complexos registrados\n",
        "pelo órgão em todo o país."
      ]
    },
    {
      "cell_type": "markdown",
      "metadata": {
        "id": "mZCIoQQIoxwX"
      },
      "source": [
        "## 2\\. Exploração de Dados"
      ]
    },
    {
      "cell_type": "markdown",
      "metadata": {
        "id": "QTwr8y0j6V2a"
      },
      "source": [
        "### **2.1.  Coleta**"
      ]
    },
    {
      "cell_type": "markdown",
      "metadata": {
        "id": "cI-ddAIrqlTg"
      },
      "source": [
        "O link que utilizei para extrair os dados foi o que está logo abaixo. Trata-se\n",
        "de dados em formato JSON."
      ]
    },
    {
      "cell_type": "code",
      "execution_count": 1,
      "metadata": {
        "id": "qj0u5CxZqxAo"
      },
      "outputs": [],
      "source": [
        "!wget -q \"https://dados.ancine.gov.br/dados-abertos/salas-de-exibicao-e-complexos.json\" -O salas_ancine.json"
      ]
    },
    {
      "cell_type": "markdown",
      "metadata": {
        "id": "zI0U_pE2r9yg"
      },
      "source": [
        "### **2.2.  Importação das Bibliotecas**"
      ]
    },
    {
      "cell_type": "code",
      "execution_count": 2,
      "metadata": {
        "id": "r8JWiWVmsGpH"
      },
      "outputs": [],
      "source": [
        "import pandas as pd\n",
        "from pandas import json_normalize\n",
        "import seaborn as sns\n",
        "import matplotlib.pyplot as plt"
      ]
    },
    {
      "cell_type": "markdown",
      "metadata": {
        "id": "H2tHnOaa6kCX"
      },
      "source": [
        "### **2.2.  Criando um DataFrame com o arquivo JSON e convertendo CSV**"
      ]
    },
    {
      "cell_type": "code",
      "execution_count": 3,
      "metadata": {
        "id": "HRddFxPYsLNv",
        "colab": {
          "base_uri": "https://localhost:8080/"
        },
        "outputId": "0d934cee-8f49-4300-d149-eb90e4cc321a"
      },
      "outputs": [
        {
          "output_type": "stream",
          "name": "stdout",
          "text": [
            "Arquivo CSV salvo como salas_ancine.csv\n"
          ]
        }
      ],
      "source": [
        "#Leitura dos dados em JSON\n",
        "json_cine = 'salas_ancine.json'\n",
        "cine_df = pd.read_json(json_cine)\n",
        "\n",
        "#Normalizando o JSON, caso tenha estruturas aninhadas.\n",
        "df = json_normalize(cine_df)\n",
        "\n",
        "#Conversão dos dados em CSV, caso seja necessário\n",
        "csv_cine = 'salas_ancine.csv'\n",
        "cine_df.to_csv(csv_cine, index=False)\n",
        "\n",
        "print(f'Arquivo CSV salvo como {csv_cine}')"
      ]
    },
    {
      "cell_type": "markdown",
      "source": [
        "## 3\\. Análise Exploratória e Manipulação de Dados"
      ],
      "metadata": {
        "id": "Z5UT98QWdMFE"
      }
    },
    {
      "cell_type": "markdown",
      "metadata": {
        "id": "3EvknZlz_6pJ"
      },
      "source": [
        "* Ao verificarmos o DataFrame criado existe apenas uma coluna 'data' com 6127\n",
        "linhas, mas não queremos isso. Queremos inicialmente um total de 32 colunas com as informações dos dicionários."
      ]
    },
    {
      "cell_type": "code",
      "execution_count": 4,
      "metadata": {
        "id": "L9zAEsqD-M7a"
      },
      "outputs": [],
      "source": [
        "#expandindo o dataframe, transformando em colunas as chaves dos dicionários\n",
        "cine_df_expanded = cine_df['data'].apply(pd.Series)"
      ]
    },
    {
      "cell_type": "code",
      "execution_count": 5,
      "metadata": {
        "id": "M3VDippiw8c-",
        "colab": {
          "base_uri": "https://localhost:8080/"
        },
        "outputId": "ab830403-103d-4353-c2f8-fb7851b29f51"
      },
      "outputs": [
        {
          "output_type": "stream",
          "name": "stdout",
          "text": [
            "<class 'pandas.core.frame.DataFrame'>\n",
            "RangeIndex: 6127 entries, 0 to 6126\n",
            "Data columns (total 32 columns):\n",
            " #   Column                          Non-Null Count  Dtype  \n",
            "---  ------                          --------------  -----  \n",
            " 0   DATA_SITUACAO_SALA              6092 non-null   object \n",
            " 1   CNPJ_SALA                       6127 non-null   object \n",
            " 2   ASSENTOS_OBESIDADE              4273 non-null   float64\n",
            " 3   REGISTRO_EXIBIDOR               6127 non-null   object \n",
            " 4   ASSENTOS_CADEIRANTES            4881 non-null   float64\n",
            " 5   ACESSO_SALA_COM_RAMPA           6127 non-null   object \n",
            " 6   NOME_COMPLEXO                   6127 non-null   object \n",
            " 7   COMPLEXO_ITINERANTE             6127 non-null   object \n",
            " 8   CNPJ_EXIBIDOR                   6127 non-null   object \n",
            " 9   NOME_GRUPO_EXIBIDOR             6127 non-null   object \n",
            " 10  SITUACAO_COMPLEXO               6127 non-null   object \n",
            " 11  ENDERECO_COMPLEXO               6105 non-null   object \n",
            " 12  ACESSO_ASSENTOS_COM_RAMPA       6127 non-null   object \n",
            " 13  NOME_EXIBIDOR                   6127 non-null   object \n",
            " 14  CEP_COMPLEXO                    6127 non-null   object \n",
            " 15  COMPLEMENTO_COMPLEXO            4698 non-null   object \n",
            " 16  REGISTRO_COMPLEXO               6127 non-null   object \n",
            " 17  MUNICIPIO_COMPLEXO              6105 non-null   object \n",
            " 18  PAGINA_ELETRONICA_COMPLEXO      4185 non-null   object \n",
            " 19  NOME_SALA                       6092 non-null   object \n",
            " 20  SITUACAO_SALA                   6127 non-null   object \n",
            " 21  ASSENTOS_MOBILIDADE_REDUZIDA    4141 non-null   float64\n",
            " 22  ASSENTOS_SALA                   6092 non-null   float64\n",
            " 23  REGISTRO_SALA                   6092 non-null   object \n",
            " 24  BANHEIROS_ACESSIVEIS            6127 non-null   object \n",
            " 25  NUMERO_ENDERECO_COMPLEXO        5134 non-null   object \n",
            " 26  BAIRRO_COMPLEXO                 6104 non-null   object \n",
            " 27  UF_COMPLEXO                     6105 non-null   object \n",
            " 28  DATA_SITUACAO_COMPLEXO          6127 non-null   object \n",
            " 29  DATA_INICIO_FUNCIONAMENTO_SALA  6074 non-null   object \n",
            " 30  SITUACAO_EXIBIDOR               6127 non-null   object \n",
            " 31  OPERACAO_USUAL                  6127 non-null   object \n",
            "dtypes: float64(4), object(28)\n",
            "memory usage: 1.5+ MB\n"
          ]
        }
      ],
      "source": [
        "cine_df_expanded.info()"
      ]
    },
    {
      "cell_type": "code",
      "execution_count": 6,
      "metadata": {
        "id": "Get8jaVG_ZjI",
        "colab": {
          "base_uri": "https://localhost:8080/",
          "height": 464
        },
        "outputId": "c1749779-49bd-4b8a-e103-9697d099e5a9"
      },
      "outputs": [
        {
          "output_type": "execute_result",
          "data": {
            "text/plain": [
              "  DATA_SITUACAO_SALA           CNPJ_SALA  ASSENTOS_OBESIDADE  \\\n",
              "0         29/08/2011  10.615.866/0001-60                 NaN   \n",
              "1         29/08/2011  10.615.866/0001-60                 NaN   \n",
              "2         24/04/2021  00.779.721/0054-53                 5.0   \n",
              "3         24/04/2021  00.779.721/0054-53                 4.0   \n",
              "4         24/04/2021  00.779.721/0054-53                 3.0   \n",
              "\n",
              "  REGISTRO_EXIBIDOR  ASSENTOS_CADEIRANTES ACESSO_SALA_COM_RAMPA  \\\n",
              "0             19954                   NaN                   NÃO   \n",
              "1             19954                   NaN                   NÃO   \n",
              "2              1843                   8.0                   NÃO   \n",
              "3              1843                   8.0                   NÃO   \n",
              "4              1843                   5.0                   NÃO   \n",
              "\n",
              "                                   NOME_COMPLEXO COMPLEXO_ITINERANTE  \\\n",
              "0  02 P D & ARAUJO EMPRESA CINEMATOGRAFICA LTDA.                 NÃO   \n",
              "1  02 P D & ARAUJO EMPRESA CINEMATOGRAFICA LTDA.                 NÃO   \n",
              "2        2100 CINEMARK PARK SHOPPING SÃO CAETANO                 NÃO   \n",
              "3        2100 CINEMARK PARK SHOPPING SÃO CAETANO                 NÃO   \n",
              "4        2100 CINEMARK PARK SHOPPING SÃO CAETANO                 NÃO   \n",
              "\n",
              "        CNPJ_EXIBIDOR                   NOME_GRUPO_EXIBIDOR  ...  \\\n",
              "0  10.615.866/0001-60  NÃO PERTENCE A NENHUM GRUPO EXIBIDOR  ...   \n",
              "1  10.615.866/0001-60  NÃO PERTENCE A NENHUM GRUPO EXIBIDOR  ...   \n",
              "2  00.779.721/0001-41                              CINEMARK  ...   \n",
              "3  00.779.721/0001-41                              CINEMARK  ...   \n",
              "4  00.779.721/0001-41                              CINEMARK  ...   \n",
              "\n",
              "  ASSENTOS_SALA REGISTRO_SALA BANHEIROS_ACESSIVEIS NUMERO_ENDERECO_COMPLEXO  \\\n",
              "0         162.0       5003332                  NÃO                     None   \n",
              "1         162.0       5003331                  NÃO                     None   \n",
              "2         402.0       5003401                  SIM                     2041   \n",
              "3         370.0       5003402                  SIM                     2041   \n",
              "4         245.0       5003403                  SIM                     2041   \n",
              "\n",
              "  BAIRRO_COMPLEXO UF_COMPLEXO DATA_SITUACAO_COMPLEXO  \\\n",
              "0          CENTRO          SP             29/08/2011   \n",
              "1          CENTRO          SP             29/08/2011   \n",
              "2        CERAMICA          SP             24/04/2021   \n",
              "3        CERAMICA          SP             24/04/2021   \n",
              "4        CERAMICA          SP             24/04/2021   \n",
              "\n",
              "  DATA_INICIO_FUNCIONAMENTO_SALA SITUACAO_EXIBIDOR OPERACAO_USUAL  \n",
              "0                     16/12/2008         IRREGULAR      COMERCIAL  \n",
              "1                     16/12/2008         IRREGULAR      COMERCIAL  \n",
              "2                     18/11/2011           REGULAR      COMERCIAL  \n",
              "3                     18/11/2011           REGULAR      COMERCIAL  \n",
              "4                     18/11/2011           REGULAR      COMERCIAL  \n",
              "\n",
              "[5 rows x 32 columns]"
            ],
            "text/html": [
              "\n",
              "  <div id=\"df-75237cee-db4a-4fc3-99e8-6fe5cbde4765\" class=\"colab-df-container\">\n",
              "    <div>\n",
              "<style scoped>\n",
              "    .dataframe tbody tr th:only-of-type {\n",
              "        vertical-align: middle;\n",
              "    }\n",
              "\n",
              "    .dataframe tbody tr th {\n",
              "        vertical-align: top;\n",
              "    }\n",
              "\n",
              "    .dataframe thead th {\n",
              "        text-align: right;\n",
              "    }\n",
              "</style>\n",
              "<table border=\"1\" class=\"dataframe\">\n",
              "  <thead>\n",
              "    <tr style=\"text-align: right;\">\n",
              "      <th></th>\n",
              "      <th>DATA_SITUACAO_SALA</th>\n",
              "      <th>CNPJ_SALA</th>\n",
              "      <th>ASSENTOS_OBESIDADE</th>\n",
              "      <th>REGISTRO_EXIBIDOR</th>\n",
              "      <th>ASSENTOS_CADEIRANTES</th>\n",
              "      <th>ACESSO_SALA_COM_RAMPA</th>\n",
              "      <th>NOME_COMPLEXO</th>\n",
              "      <th>COMPLEXO_ITINERANTE</th>\n",
              "      <th>CNPJ_EXIBIDOR</th>\n",
              "      <th>NOME_GRUPO_EXIBIDOR</th>\n",
              "      <th>...</th>\n",
              "      <th>ASSENTOS_SALA</th>\n",
              "      <th>REGISTRO_SALA</th>\n",
              "      <th>BANHEIROS_ACESSIVEIS</th>\n",
              "      <th>NUMERO_ENDERECO_COMPLEXO</th>\n",
              "      <th>BAIRRO_COMPLEXO</th>\n",
              "      <th>UF_COMPLEXO</th>\n",
              "      <th>DATA_SITUACAO_COMPLEXO</th>\n",
              "      <th>DATA_INICIO_FUNCIONAMENTO_SALA</th>\n",
              "      <th>SITUACAO_EXIBIDOR</th>\n",
              "      <th>OPERACAO_USUAL</th>\n",
              "    </tr>\n",
              "  </thead>\n",
              "  <tbody>\n",
              "    <tr>\n",
              "      <th>0</th>\n",
              "      <td>29/08/2011</td>\n",
              "      <td>10.615.866/0001-60</td>\n",
              "      <td>NaN</td>\n",
              "      <td>19954</td>\n",
              "      <td>NaN</td>\n",
              "      <td>NÃO</td>\n",
              "      <td>02 P D &amp; ARAUJO EMPRESA CINEMATOGRAFICA LTDA.</td>\n",
              "      <td>NÃO</td>\n",
              "      <td>10.615.866/0001-60</td>\n",
              "      <td>NÃO PERTENCE A NENHUM GRUPO EXIBIDOR</td>\n",
              "      <td>...</td>\n",
              "      <td>162.0</td>\n",
              "      <td>5003332</td>\n",
              "      <td>NÃO</td>\n",
              "      <td>None</td>\n",
              "      <td>CENTRO</td>\n",
              "      <td>SP</td>\n",
              "      <td>29/08/2011</td>\n",
              "      <td>16/12/2008</td>\n",
              "      <td>IRREGULAR</td>\n",
              "      <td>COMERCIAL</td>\n",
              "    </tr>\n",
              "    <tr>\n",
              "      <th>1</th>\n",
              "      <td>29/08/2011</td>\n",
              "      <td>10.615.866/0001-60</td>\n",
              "      <td>NaN</td>\n",
              "      <td>19954</td>\n",
              "      <td>NaN</td>\n",
              "      <td>NÃO</td>\n",
              "      <td>02 P D &amp; ARAUJO EMPRESA CINEMATOGRAFICA LTDA.</td>\n",
              "      <td>NÃO</td>\n",
              "      <td>10.615.866/0001-60</td>\n",
              "      <td>NÃO PERTENCE A NENHUM GRUPO EXIBIDOR</td>\n",
              "      <td>...</td>\n",
              "      <td>162.0</td>\n",
              "      <td>5003331</td>\n",
              "      <td>NÃO</td>\n",
              "      <td>None</td>\n",
              "      <td>CENTRO</td>\n",
              "      <td>SP</td>\n",
              "      <td>29/08/2011</td>\n",
              "      <td>16/12/2008</td>\n",
              "      <td>IRREGULAR</td>\n",
              "      <td>COMERCIAL</td>\n",
              "    </tr>\n",
              "    <tr>\n",
              "      <th>2</th>\n",
              "      <td>24/04/2021</td>\n",
              "      <td>00.779.721/0054-53</td>\n",
              "      <td>5.0</td>\n",
              "      <td>1843</td>\n",
              "      <td>8.0</td>\n",
              "      <td>NÃO</td>\n",
              "      <td>2100 CINEMARK PARK SHOPPING SÃO CAETANO</td>\n",
              "      <td>NÃO</td>\n",
              "      <td>00.779.721/0001-41</td>\n",
              "      <td>CINEMARK</td>\n",
              "      <td>...</td>\n",
              "      <td>402.0</td>\n",
              "      <td>5003401</td>\n",
              "      <td>SIM</td>\n",
              "      <td>2041</td>\n",
              "      <td>CERAMICA</td>\n",
              "      <td>SP</td>\n",
              "      <td>24/04/2021</td>\n",
              "      <td>18/11/2011</td>\n",
              "      <td>REGULAR</td>\n",
              "      <td>COMERCIAL</td>\n",
              "    </tr>\n",
              "    <tr>\n",
              "      <th>3</th>\n",
              "      <td>24/04/2021</td>\n",
              "      <td>00.779.721/0054-53</td>\n",
              "      <td>4.0</td>\n",
              "      <td>1843</td>\n",
              "      <td>8.0</td>\n",
              "      <td>NÃO</td>\n",
              "      <td>2100 CINEMARK PARK SHOPPING SÃO CAETANO</td>\n",
              "      <td>NÃO</td>\n",
              "      <td>00.779.721/0001-41</td>\n",
              "      <td>CINEMARK</td>\n",
              "      <td>...</td>\n",
              "      <td>370.0</td>\n",
              "      <td>5003402</td>\n",
              "      <td>SIM</td>\n",
              "      <td>2041</td>\n",
              "      <td>CERAMICA</td>\n",
              "      <td>SP</td>\n",
              "      <td>24/04/2021</td>\n",
              "      <td>18/11/2011</td>\n",
              "      <td>REGULAR</td>\n",
              "      <td>COMERCIAL</td>\n",
              "    </tr>\n",
              "    <tr>\n",
              "      <th>4</th>\n",
              "      <td>24/04/2021</td>\n",
              "      <td>00.779.721/0054-53</td>\n",
              "      <td>3.0</td>\n",
              "      <td>1843</td>\n",
              "      <td>5.0</td>\n",
              "      <td>NÃO</td>\n",
              "      <td>2100 CINEMARK PARK SHOPPING SÃO CAETANO</td>\n",
              "      <td>NÃO</td>\n",
              "      <td>00.779.721/0001-41</td>\n",
              "      <td>CINEMARK</td>\n",
              "      <td>...</td>\n",
              "      <td>245.0</td>\n",
              "      <td>5003403</td>\n",
              "      <td>SIM</td>\n",
              "      <td>2041</td>\n",
              "      <td>CERAMICA</td>\n",
              "      <td>SP</td>\n",
              "      <td>24/04/2021</td>\n",
              "      <td>18/11/2011</td>\n",
              "      <td>REGULAR</td>\n",
              "      <td>COMERCIAL</td>\n",
              "    </tr>\n",
              "  </tbody>\n",
              "</table>\n",
              "<p>5 rows × 32 columns</p>\n",
              "</div>\n",
              "    <div class=\"colab-df-buttons\">\n",
              "\n",
              "  <div class=\"colab-df-container\">\n",
              "    <button class=\"colab-df-convert\" onclick=\"convertToInteractive('df-75237cee-db4a-4fc3-99e8-6fe5cbde4765')\"\n",
              "            title=\"Convert this dataframe to an interactive table.\"\n",
              "            style=\"display:none;\">\n",
              "\n",
              "  <svg xmlns=\"http://www.w3.org/2000/svg\" height=\"24px\" viewBox=\"0 -960 960 960\">\n",
              "    <path d=\"M120-120v-720h720v720H120Zm60-500h600v-160H180v160Zm220 220h160v-160H400v160Zm0 220h160v-160H400v160ZM180-400h160v-160H180v160Zm440 0h160v-160H620v160ZM180-180h160v-160H180v160Zm440 0h160v-160H620v160Z\"/>\n",
              "  </svg>\n",
              "    </button>\n",
              "\n",
              "  <style>\n",
              "    .colab-df-container {\n",
              "      display:flex;\n",
              "      gap: 12px;\n",
              "    }\n",
              "\n",
              "    .colab-df-convert {\n",
              "      background-color: #E8F0FE;\n",
              "      border: none;\n",
              "      border-radius: 50%;\n",
              "      cursor: pointer;\n",
              "      display: none;\n",
              "      fill: #1967D2;\n",
              "      height: 32px;\n",
              "      padding: 0 0 0 0;\n",
              "      width: 32px;\n",
              "    }\n",
              "\n",
              "    .colab-df-convert:hover {\n",
              "      background-color: #E2EBFA;\n",
              "      box-shadow: 0px 1px 2px rgba(60, 64, 67, 0.3), 0px 1px 3px 1px rgba(60, 64, 67, 0.15);\n",
              "      fill: #174EA6;\n",
              "    }\n",
              "\n",
              "    .colab-df-buttons div {\n",
              "      margin-bottom: 4px;\n",
              "    }\n",
              "\n",
              "    [theme=dark] .colab-df-convert {\n",
              "      background-color: #3B4455;\n",
              "      fill: #D2E3FC;\n",
              "    }\n",
              "\n",
              "    [theme=dark] .colab-df-convert:hover {\n",
              "      background-color: #434B5C;\n",
              "      box-shadow: 0px 1px 3px 1px rgba(0, 0, 0, 0.15);\n",
              "      filter: drop-shadow(0px 1px 2px rgba(0, 0, 0, 0.3));\n",
              "      fill: #FFFFFF;\n",
              "    }\n",
              "  </style>\n",
              "\n",
              "    <script>\n",
              "      const buttonEl =\n",
              "        document.querySelector('#df-75237cee-db4a-4fc3-99e8-6fe5cbde4765 button.colab-df-convert');\n",
              "      buttonEl.style.display =\n",
              "        google.colab.kernel.accessAllowed ? 'block' : 'none';\n",
              "\n",
              "      async function convertToInteractive(key) {\n",
              "        const element = document.querySelector('#df-75237cee-db4a-4fc3-99e8-6fe5cbde4765');\n",
              "        const dataTable =\n",
              "          await google.colab.kernel.invokeFunction('convertToInteractive',\n",
              "                                                    [key], {});\n",
              "        if (!dataTable) return;\n",
              "\n",
              "        const docLinkHtml = 'Like what you see? Visit the ' +\n",
              "          '<a target=\"_blank\" href=https://colab.research.google.com/notebooks/data_table.ipynb>data table notebook</a>'\n",
              "          + ' to learn more about interactive tables.';\n",
              "        element.innerHTML = '';\n",
              "        dataTable['output_type'] = 'display_data';\n",
              "        await google.colab.output.renderOutput(dataTable, element);\n",
              "        const docLink = document.createElement('div');\n",
              "        docLink.innerHTML = docLinkHtml;\n",
              "        element.appendChild(docLink);\n",
              "      }\n",
              "    </script>\n",
              "  </div>\n",
              "\n",
              "\n",
              "<div id=\"df-fab58914-2874-4555-bb3d-23b8bce7747b\">\n",
              "  <button class=\"colab-df-quickchart\" onclick=\"quickchart('df-fab58914-2874-4555-bb3d-23b8bce7747b')\"\n",
              "            title=\"Suggest charts\"\n",
              "            style=\"display:none;\">\n",
              "\n",
              "<svg xmlns=\"http://www.w3.org/2000/svg\" height=\"24px\"viewBox=\"0 0 24 24\"\n",
              "     width=\"24px\">\n",
              "    <g>\n",
              "        <path d=\"M19 3H5c-1.1 0-2 .9-2 2v14c0 1.1.9 2 2 2h14c1.1 0 2-.9 2-2V5c0-1.1-.9-2-2-2zM9 17H7v-7h2v7zm4 0h-2V7h2v10zm4 0h-2v-4h2v4z\"/>\n",
              "    </g>\n",
              "</svg>\n",
              "  </button>\n",
              "\n",
              "<style>\n",
              "  .colab-df-quickchart {\n",
              "      --bg-color: #E8F0FE;\n",
              "      --fill-color: #1967D2;\n",
              "      --hover-bg-color: #E2EBFA;\n",
              "      --hover-fill-color: #174EA6;\n",
              "      --disabled-fill-color: #AAA;\n",
              "      --disabled-bg-color: #DDD;\n",
              "  }\n",
              "\n",
              "  [theme=dark] .colab-df-quickchart {\n",
              "      --bg-color: #3B4455;\n",
              "      --fill-color: #D2E3FC;\n",
              "      --hover-bg-color: #434B5C;\n",
              "      --hover-fill-color: #FFFFFF;\n",
              "      --disabled-bg-color: #3B4455;\n",
              "      --disabled-fill-color: #666;\n",
              "  }\n",
              "\n",
              "  .colab-df-quickchart {\n",
              "    background-color: var(--bg-color);\n",
              "    border: none;\n",
              "    border-radius: 50%;\n",
              "    cursor: pointer;\n",
              "    display: none;\n",
              "    fill: var(--fill-color);\n",
              "    height: 32px;\n",
              "    padding: 0;\n",
              "    width: 32px;\n",
              "  }\n",
              "\n",
              "  .colab-df-quickchart:hover {\n",
              "    background-color: var(--hover-bg-color);\n",
              "    box-shadow: 0 1px 2px rgba(60, 64, 67, 0.3), 0 1px 3px 1px rgba(60, 64, 67, 0.15);\n",
              "    fill: var(--button-hover-fill-color);\n",
              "  }\n",
              "\n",
              "  .colab-df-quickchart-complete:disabled,\n",
              "  .colab-df-quickchart-complete:disabled:hover {\n",
              "    background-color: var(--disabled-bg-color);\n",
              "    fill: var(--disabled-fill-color);\n",
              "    box-shadow: none;\n",
              "  }\n",
              "\n",
              "  .colab-df-spinner {\n",
              "    border: 2px solid var(--fill-color);\n",
              "    border-color: transparent;\n",
              "    border-bottom-color: var(--fill-color);\n",
              "    animation:\n",
              "      spin 1s steps(1) infinite;\n",
              "  }\n",
              "\n",
              "  @keyframes spin {\n",
              "    0% {\n",
              "      border-color: transparent;\n",
              "      border-bottom-color: var(--fill-color);\n",
              "      border-left-color: var(--fill-color);\n",
              "    }\n",
              "    20% {\n",
              "      border-color: transparent;\n",
              "      border-left-color: var(--fill-color);\n",
              "      border-top-color: var(--fill-color);\n",
              "    }\n",
              "    30% {\n",
              "      border-color: transparent;\n",
              "      border-left-color: var(--fill-color);\n",
              "      border-top-color: var(--fill-color);\n",
              "      border-right-color: var(--fill-color);\n",
              "    }\n",
              "    40% {\n",
              "      border-color: transparent;\n",
              "      border-right-color: var(--fill-color);\n",
              "      border-top-color: var(--fill-color);\n",
              "    }\n",
              "    60% {\n",
              "      border-color: transparent;\n",
              "      border-right-color: var(--fill-color);\n",
              "    }\n",
              "    80% {\n",
              "      border-color: transparent;\n",
              "      border-right-color: var(--fill-color);\n",
              "      border-bottom-color: var(--fill-color);\n",
              "    }\n",
              "    90% {\n",
              "      border-color: transparent;\n",
              "      border-bottom-color: var(--fill-color);\n",
              "    }\n",
              "  }\n",
              "</style>\n",
              "\n",
              "  <script>\n",
              "    async function quickchart(key) {\n",
              "      const quickchartButtonEl =\n",
              "        document.querySelector('#' + key + ' button');\n",
              "      quickchartButtonEl.disabled = true;  // To prevent multiple clicks.\n",
              "      quickchartButtonEl.classList.add('colab-df-spinner');\n",
              "      try {\n",
              "        const charts = await google.colab.kernel.invokeFunction(\n",
              "            'suggestCharts', [key], {});\n",
              "      } catch (error) {\n",
              "        console.error('Error during call to suggestCharts:', error);\n",
              "      }\n",
              "      quickchartButtonEl.classList.remove('colab-df-spinner');\n",
              "      quickchartButtonEl.classList.add('colab-df-quickchart-complete');\n",
              "    }\n",
              "    (() => {\n",
              "      let quickchartButtonEl =\n",
              "        document.querySelector('#df-fab58914-2874-4555-bb3d-23b8bce7747b button');\n",
              "      quickchartButtonEl.style.display =\n",
              "        google.colab.kernel.accessAllowed ? 'block' : 'none';\n",
              "    })();\n",
              "  </script>\n",
              "</div>\n",
              "\n",
              "    </div>\n",
              "  </div>\n"
            ],
            "application/vnd.google.colaboratory.intrinsic+json": {
              "type": "dataframe",
              "variable_name": "cine_df_expanded"
            }
          },
          "metadata": {},
          "execution_count": 6
        }
      ],
      "source": [
        "cine_df_expanded.head()"
      ]
    },
    {
      "cell_type": "markdown",
      "metadata": {
        "id": "ZNd1URuCB1sx"
      },
      "source": [
        " - Agora vamos dividir o DataFrame original em dois: um apenas com a coluna SITUACAO_EXIBIDOR com valor IRREGULAR e outro com a coluna SITUACAO_EXIBIDOR\n",
        " com valor REGULAR."
      ]
    },
    {
      "cell_type": "code",
      "execution_count": 7,
      "metadata": {
        "collapsed": true,
        "id": "8R0ctgP74VjM",
        "colab": {
          "base_uri": "https://localhost:8080/"
        },
        "outputId": "58c99df4-5667-4733-c768-ccf0c48b764e"
      },
      "outputs": [
        {
          "output_type": "stream",
          "name": "stdout",
          "text": [
            "<class 'pandas.core.frame.DataFrame'>\n",
            "Index: 1819 entries, 0 to 6126\n",
            "Data columns (total 32 columns):\n",
            " #   Column                          Non-Null Count  Dtype  \n",
            "---  ------                          --------------  -----  \n",
            " 0   DATA_SITUACAO_SALA              1795 non-null   object \n",
            " 1   CNPJ_SALA                       1819 non-null   object \n",
            " 2   ASSENTOS_OBESIDADE              694 non-null    float64\n",
            " 3   REGISTRO_EXIBIDOR               1819 non-null   object \n",
            " 4   ASSENTOS_CADEIRANTES            939 non-null    float64\n",
            " 5   ACESSO_SALA_COM_RAMPA           1819 non-null   object \n",
            " 6   NOME_COMPLEXO                   1819 non-null   object \n",
            " 7   COMPLEXO_ITINERANTE             1819 non-null   object \n",
            " 8   CNPJ_EXIBIDOR                   1819 non-null   object \n",
            " 9   NOME_GRUPO_EXIBIDOR             1819 non-null   object \n",
            " 10  SITUACAO_COMPLEXO               1819 non-null   object \n",
            " 11  ENDERECO_COMPLEXO               1804 non-null   object \n",
            " 12  ACESSO_ASSENTOS_COM_RAMPA       1819 non-null   object \n",
            " 13  NOME_EXIBIDOR                   1819 non-null   object \n",
            " 14  CEP_COMPLEXO                    1819 non-null   object \n",
            " 15  COMPLEMENTO_COMPLEXO            1263 non-null   object \n",
            " 16  REGISTRO_COMPLEXO               1819 non-null   object \n",
            " 17  MUNICIPIO_COMPLEXO              1804 non-null   object \n",
            " 18  PAGINA_ELETRONICA_COMPLEXO      1122 non-null   object \n",
            " 19  NOME_SALA                       1795 non-null   object \n",
            " 20  SITUACAO_SALA                   1819 non-null   object \n",
            " 21  ASSENTOS_MOBILIDADE_REDUZIDA    610 non-null    float64\n",
            " 22  ASSENTOS_SALA                   1795 non-null   float64\n",
            " 23  REGISTRO_SALA                   1795 non-null   object \n",
            " 24  BANHEIROS_ACESSIVEIS            1819 non-null   object \n",
            " 25  NUMERO_ENDERECO_COMPLEXO        1008 non-null   object \n",
            " 26  BAIRRO_COMPLEXO                 1803 non-null   object \n",
            " 27  UF_COMPLEXO                     1804 non-null   object \n",
            " 28  DATA_SITUACAO_COMPLEXO          1819 non-null   object \n",
            " 29  DATA_INICIO_FUNCIONAMENTO_SALA  1777 non-null   object \n",
            " 30  SITUACAO_EXIBIDOR               1819 non-null   object \n",
            " 31  OPERACAO_USUAL                  1819 non-null   object \n",
            "dtypes: float64(4), object(28)\n",
            "memory usage: 469.0+ KB\n",
            "None\n"
          ]
        }
      ],
      "source": [
        "cine_df_irregular = cine_df_expanded[cine_df_expanded['SITUACAO_EXIBIDOR'] == 'IRREGULAR']\n",
        "print(cine_df_irregular.info())"
      ]
    },
    {
      "cell_type": "code",
      "execution_count": 8,
      "metadata": {
        "collapsed": true,
        "id": "pjeij2Ys-70I",
        "colab": {
          "base_uri": "https://localhost:8080/"
        },
        "outputId": "c49b5e6a-c87b-4d83-81a9-2d46ad14fce6"
      },
      "outputs": [
        {
          "output_type": "stream",
          "name": "stdout",
          "text": [
            "<class 'pandas.core.frame.DataFrame'>\n",
            "Index: 4308 entries, 2 to 6119\n",
            "Data columns (total 32 columns):\n",
            " #   Column                          Non-Null Count  Dtype  \n",
            "---  ------                          --------------  -----  \n",
            " 0   DATA_SITUACAO_SALA              4297 non-null   object \n",
            " 1   CNPJ_SALA                       4308 non-null   object \n",
            " 2   ASSENTOS_OBESIDADE              3579 non-null   float64\n",
            " 3   REGISTRO_EXIBIDOR               4308 non-null   object \n",
            " 4   ASSENTOS_CADEIRANTES            3942 non-null   float64\n",
            " 5   ACESSO_SALA_COM_RAMPA           4308 non-null   object \n",
            " 6   NOME_COMPLEXO                   4308 non-null   object \n",
            " 7   COMPLEXO_ITINERANTE             4308 non-null   object \n",
            " 8   CNPJ_EXIBIDOR                   4308 non-null   object \n",
            " 9   NOME_GRUPO_EXIBIDOR             4308 non-null   object \n",
            " 10  SITUACAO_COMPLEXO               4308 non-null   object \n",
            " 11  ENDERECO_COMPLEXO               4301 non-null   object \n",
            " 12  ACESSO_ASSENTOS_COM_RAMPA       4308 non-null   object \n",
            " 13  NOME_EXIBIDOR                   4308 non-null   object \n",
            " 14  CEP_COMPLEXO                    4308 non-null   object \n",
            " 15  COMPLEMENTO_COMPLEXO            3435 non-null   object \n",
            " 16  REGISTRO_COMPLEXO               4308 non-null   object \n",
            " 17  MUNICIPIO_COMPLEXO              4301 non-null   object \n",
            " 18  PAGINA_ELETRONICA_COMPLEXO      3063 non-null   object \n",
            " 19  NOME_SALA                       4297 non-null   object \n",
            " 20  SITUACAO_SALA                   4308 non-null   object \n",
            " 21  ASSENTOS_MOBILIDADE_REDUZIDA    3531 non-null   float64\n",
            " 22  ASSENTOS_SALA                   4297 non-null   float64\n",
            " 23  REGISTRO_SALA                   4297 non-null   object \n",
            " 24  BANHEIROS_ACESSIVEIS            4308 non-null   object \n",
            " 25  NUMERO_ENDERECO_COMPLEXO        4126 non-null   object \n",
            " 26  BAIRRO_COMPLEXO                 4301 non-null   object \n",
            " 27  UF_COMPLEXO                     4301 non-null   object \n",
            " 28  DATA_SITUACAO_COMPLEXO          4308 non-null   object \n",
            " 29  DATA_INICIO_FUNCIONAMENTO_SALA  4297 non-null   object \n",
            " 30  SITUACAO_EXIBIDOR               4308 non-null   object \n",
            " 31  OPERACAO_USUAL                  4308 non-null   object \n",
            "dtypes: float64(4), object(28)\n",
            "memory usage: 1.1+ MB\n",
            "None\n"
          ]
        }
      ],
      "source": [
        "cine_df_regular = cine_df_expanded[cine_df_expanded['SITUACAO_EXIBIDOR'] == 'REGULAR']\n",
        "print(cine_df_regular.info())\n"
      ]
    },
    {
      "cell_type": "markdown",
      "metadata": {
        "id": "Sw4TPYtMFDNW"
      },
      "source": [
        "- Agora queremos apenas as salas de exibição que estejam com a coluna SITUACAO_COMPLEXO como \"EM FUNCIONAMENTO\" para ambos os DataFrames."
      ]
    },
    {
      "cell_type": "code",
      "execution_count": 9,
      "metadata": {
        "collapsed": true,
        "id": "S3sH4TT2FdJn",
        "colab": {
          "base_uri": "https://localhost:8080/"
        },
        "outputId": "ae9f99db-15c0-491f-d189-06716dad10d7"
      },
      "outputs": [
        {
          "output_type": "stream",
          "name": "stdout",
          "text": [
            "<class 'pandas.core.frame.DataFrame'>\n",
            "Index: 390 entries, 721 to 6112\n",
            "Data columns (total 32 columns):\n",
            " #   Column                          Non-Null Count  Dtype  \n",
            "---  ------                          --------------  -----  \n",
            " 0   DATA_SITUACAO_SALA              371 non-null    object \n",
            " 1   CNPJ_SALA                       390 non-null    object \n",
            " 2   ASSENTOS_OBESIDADE              251 non-null    float64\n",
            " 3   REGISTRO_EXIBIDOR               390 non-null    object \n",
            " 4   ASSENTOS_CADEIRANTES            288 non-null    float64\n",
            " 5   ACESSO_SALA_COM_RAMPA           390 non-null    object \n",
            " 6   NOME_COMPLEXO                   390 non-null    object \n",
            " 7   COMPLEXO_ITINERANTE             390 non-null    object \n",
            " 8   CNPJ_EXIBIDOR                   390 non-null    object \n",
            " 9   NOME_GRUPO_EXIBIDOR             390 non-null    object \n",
            " 10  SITUACAO_COMPLEXO               390 non-null    object \n",
            " 11  ENDERECO_COMPLEXO               376 non-null    object \n",
            " 12  ACESSO_ASSENTOS_COM_RAMPA       390 non-null    object \n",
            " 13  NOME_EXIBIDOR                   390 non-null    object \n",
            " 14  CEP_COMPLEXO                    390 non-null    object \n",
            " 15  COMPLEMENTO_COMPLEXO            232 non-null    object \n",
            " 16  REGISTRO_COMPLEXO               390 non-null    object \n",
            " 17  MUNICIPIO_COMPLEXO              376 non-null    object \n",
            " 18  PAGINA_ELETRONICA_COMPLEXO      222 non-null    object \n",
            " 19  NOME_SALA                       371 non-null    object \n",
            " 20  SITUACAO_SALA                   390 non-null    object \n",
            " 21  ASSENTOS_MOBILIDADE_REDUZIDA    216 non-null    float64\n",
            " 22  ASSENTOS_SALA                   371 non-null    float64\n",
            " 23  REGISTRO_SALA                   371 non-null    object \n",
            " 24  BANHEIROS_ACESSIVEIS            390 non-null    object \n",
            " 25  NUMERO_ENDERECO_COMPLEXO        302 non-null    object \n",
            " 26  BAIRRO_COMPLEXO                 376 non-null    object \n",
            " 27  UF_COMPLEXO                     376 non-null    object \n",
            " 28  DATA_SITUACAO_COMPLEXO          390 non-null    object \n",
            " 29  DATA_INICIO_FUNCIONAMENTO_SALA  371 non-null    object \n",
            " 30  SITUACAO_EXIBIDOR               390 non-null    object \n",
            " 31  OPERACAO_USUAL                  390 non-null    object \n",
            "dtypes: float64(4), object(28)\n",
            "memory usage: 100.5+ KB\n",
            "None\n"
          ]
        }
      ],
      "source": [
        "cine_df_irregular_em_funcionamento = cine_df_irregular[cine_df_irregular['SITUACAO_COMPLEXO'] == 'EM FUNCIONAMENTO']\n",
        "print(cine_df_irregular_em_funcionamento.info())"
      ]
    },
    {
      "cell_type": "code",
      "execution_count": 10,
      "metadata": {
        "collapsed": true,
        "id": "5ecxTaqUHASP",
        "colab": {
          "base_uri": "https://localhost:8080/"
        },
        "outputId": "586c56b3-7df7-4770-fc55-7eec06593902"
      },
      "outputs": [
        {
          "output_type": "stream",
          "name": "stdout",
          "text": [
            "<class 'pandas.core.frame.DataFrame'>\n",
            "Index: 3373 entries, 2 to 6115\n",
            "Data columns (total 32 columns):\n",
            " #   Column                          Non-Null Count  Dtype  \n",
            "---  ------                          --------------  -----  \n",
            " 0   DATA_SITUACAO_SALA              3366 non-null   object \n",
            " 1   CNPJ_SALA                       3373 non-null   object \n",
            " 2   ASSENTOS_OBESIDADE              3090 non-null   float64\n",
            " 3   REGISTRO_EXIBIDOR               3373 non-null   object \n",
            " 4   ASSENTOS_CADEIRANTES            3297 non-null   float64\n",
            " 5   ACESSO_SALA_COM_RAMPA           3373 non-null   object \n",
            " 6   NOME_COMPLEXO                   3373 non-null   object \n",
            " 7   COMPLEXO_ITINERANTE             3373 non-null   object \n",
            " 8   CNPJ_EXIBIDOR                   3373 non-null   object \n",
            " 9   NOME_GRUPO_EXIBIDOR             3373 non-null   object \n",
            " 10  SITUACAO_COMPLEXO               3373 non-null   object \n",
            " 11  ENDERECO_COMPLEXO               3366 non-null   object \n",
            " 12  ACESSO_ASSENTOS_COM_RAMPA       3373 non-null   object \n",
            " 13  NOME_EXIBIDOR                   3373 non-null   object \n",
            " 14  CEP_COMPLEXO                    3373 non-null   object \n",
            " 15  COMPLEMENTO_COMPLEXO            2748 non-null   object \n",
            " 16  REGISTRO_COMPLEXO               3373 non-null   object \n",
            " 17  MUNICIPIO_COMPLEXO              3366 non-null   object \n",
            " 18  PAGINA_ELETRONICA_COMPLEXO      2365 non-null   object \n",
            " 19  NOME_SALA                       3366 non-null   object \n",
            " 20  SITUACAO_SALA                   3373 non-null   object \n",
            " 21  ASSENTOS_MOBILIDADE_REDUZIDA    3032 non-null   float64\n",
            " 22  ASSENTOS_SALA                   3366 non-null   float64\n",
            " 23  REGISTRO_SALA                   3366 non-null   object \n",
            " 24  BANHEIROS_ACESSIVEIS            3373 non-null   object \n",
            " 25  NUMERO_ENDERECO_COMPLEXO        3362 non-null   object \n",
            " 26  BAIRRO_COMPLEXO                 3366 non-null   object \n",
            " 27  UF_COMPLEXO                     3366 non-null   object \n",
            " 28  DATA_SITUACAO_COMPLEXO          3373 non-null   object \n",
            " 29  DATA_INICIO_FUNCIONAMENTO_SALA  3366 non-null   object \n",
            " 30  SITUACAO_EXIBIDOR               3373 non-null   object \n",
            " 31  OPERACAO_USUAL                  3373 non-null   object \n",
            "dtypes: float64(4), object(28)\n",
            "memory usage: 869.6+ KB\n",
            "None\n"
          ]
        }
      ],
      "source": [
        "cine_df_regular_em_funcionamento = cine_df_regular[cine_df_regular['SITUACAO_COMPLEXO'] == 'EM FUNCIONAMENTO']\n",
        "print(cine_df_regular_em_funcionamento.info())"
      ]
    },
    {
      "cell_type": "markdown",
      "metadata": {
        "id": "LfUwa8WAHSC_"
      },
      "source": [
        "- Por último, antes de iniciar com uma análise mais profunda, vamos limpar ambos os DataFrames, ordenar e renomear as colunas, para a visualização ficar melhor."
      ]
    },
    {
      "cell_type": "code",
      "execution_count": 11,
      "metadata": {
        "id": "5c9dJSS_HdFN"
      },
      "outputs": [],
      "source": [
        "#Resetando os índices\n",
        "cine_df_irregular_em_funcionamento.reset_index(drop=True, inplace=True)\n",
        "cine_df_regular_em_funcionamento.reset_index(drop=True, inplace=True)"
      ]
    },
    {
      "cell_type": "code",
      "execution_count": 12,
      "metadata": {
        "collapsed": true,
        "id": "riYwecuzIbE2",
        "colab": {
          "base_uri": "https://localhost:8080/",
          "height": 206
        },
        "outputId": "957deebc-4c48-463c-b2f4-317f1e9eb498"
      },
      "outputs": [
        {
          "output_type": "execute_result",
          "data": {
            "text/plain": [
              "          Nome Sala  UF           Municipio Inicio Funcionamento  \\\n",
              "0  PARK SHOPPING 01  SP  SÃO CAETANO DO SUL           18/11/2011   \n",
              "1  PARK SHOPPING 02  SP  SÃO CAETANO DO SUL           18/11/2011   \n",
              "2  PARK SHOPPING 03  SP  SÃO CAETANO DO SUL           18/11/2011   \n",
              "3  PARK SHOPPING 04  SP  SÃO CAETANO DO SUL           18/11/2011   \n",
              "4  PARK SHOPPING 05  SP  SÃO CAETANO DO SUL           18/11/2011   \n",
              "\n",
              "   Assentos na Sala  Assentos para Obesos  Assentos Mob. Red.  \\\n",
              "0             402.0                   5.0                 5.0   \n",
              "1             370.0                   4.0                 4.0   \n",
              "2             245.0                   3.0                 3.0   \n",
              "3             332.0                   3.0                 3.0   \n",
              "4             210.0                   3.0                 3.0   \n",
              "\n",
              "   Assentos Cadeirantes Acesso Sala com Rampa Acesso Assentos com Rampa  \\\n",
              "0                   8.0                   NÃO                       SIM   \n",
              "1                   8.0                   NÃO                       SIM   \n",
              "2                   5.0                   NÃO                       SIM   \n",
              "3                   5.0                   NÃO                       SIM   \n",
              "4                   4.0                   NÃO                       SIM   \n",
              "\n",
              "  Banheiros Acessiveis  \n",
              "0                  SIM  \n",
              "1                  SIM  \n",
              "2                  SIM  \n",
              "3                  SIM  \n",
              "4                  SIM  "
            ],
            "text/html": [
              "\n",
              "  <div id=\"df-e9f82280-d42a-4289-b751-479cbb68450f\" class=\"colab-df-container\">\n",
              "    <div>\n",
              "<style scoped>\n",
              "    .dataframe tbody tr th:only-of-type {\n",
              "        vertical-align: middle;\n",
              "    }\n",
              "\n",
              "    .dataframe tbody tr th {\n",
              "        vertical-align: top;\n",
              "    }\n",
              "\n",
              "    .dataframe thead th {\n",
              "        text-align: right;\n",
              "    }\n",
              "</style>\n",
              "<table border=\"1\" class=\"dataframe\">\n",
              "  <thead>\n",
              "    <tr style=\"text-align: right;\">\n",
              "      <th></th>\n",
              "      <th>Nome Sala</th>\n",
              "      <th>UF</th>\n",
              "      <th>Municipio</th>\n",
              "      <th>Inicio Funcionamento</th>\n",
              "      <th>Assentos na Sala</th>\n",
              "      <th>Assentos para Obesos</th>\n",
              "      <th>Assentos Mob. Red.</th>\n",
              "      <th>Assentos Cadeirantes</th>\n",
              "      <th>Acesso Sala com Rampa</th>\n",
              "      <th>Acesso Assentos com Rampa</th>\n",
              "      <th>Banheiros Acessiveis</th>\n",
              "    </tr>\n",
              "  </thead>\n",
              "  <tbody>\n",
              "    <tr>\n",
              "      <th>0</th>\n",
              "      <td>PARK SHOPPING 01</td>\n",
              "      <td>SP</td>\n",
              "      <td>SÃO CAETANO DO SUL</td>\n",
              "      <td>18/11/2011</td>\n",
              "      <td>402.0</td>\n",
              "      <td>5.0</td>\n",
              "      <td>5.0</td>\n",
              "      <td>8.0</td>\n",
              "      <td>NÃO</td>\n",
              "      <td>SIM</td>\n",
              "      <td>SIM</td>\n",
              "    </tr>\n",
              "    <tr>\n",
              "      <th>1</th>\n",
              "      <td>PARK SHOPPING 02</td>\n",
              "      <td>SP</td>\n",
              "      <td>SÃO CAETANO DO SUL</td>\n",
              "      <td>18/11/2011</td>\n",
              "      <td>370.0</td>\n",
              "      <td>4.0</td>\n",
              "      <td>4.0</td>\n",
              "      <td>8.0</td>\n",
              "      <td>NÃO</td>\n",
              "      <td>SIM</td>\n",
              "      <td>SIM</td>\n",
              "    </tr>\n",
              "    <tr>\n",
              "      <th>2</th>\n",
              "      <td>PARK SHOPPING 03</td>\n",
              "      <td>SP</td>\n",
              "      <td>SÃO CAETANO DO SUL</td>\n",
              "      <td>18/11/2011</td>\n",
              "      <td>245.0</td>\n",
              "      <td>3.0</td>\n",
              "      <td>3.0</td>\n",
              "      <td>5.0</td>\n",
              "      <td>NÃO</td>\n",
              "      <td>SIM</td>\n",
              "      <td>SIM</td>\n",
              "    </tr>\n",
              "    <tr>\n",
              "      <th>3</th>\n",
              "      <td>PARK SHOPPING 04</td>\n",
              "      <td>SP</td>\n",
              "      <td>SÃO CAETANO DO SUL</td>\n",
              "      <td>18/11/2011</td>\n",
              "      <td>332.0</td>\n",
              "      <td>3.0</td>\n",
              "      <td>3.0</td>\n",
              "      <td>5.0</td>\n",
              "      <td>NÃO</td>\n",
              "      <td>SIM</td>\n",
              "      <td>SIM</td>\n",
              "    </tr>\n",
              "    <tr>\n",
              "      <th>4</th>\n",
              "      <td>PARK SHOPPING 05</td>\n",
              "      <td>SP</td>\n",
              "      <td>SÃO CAETANO DO SUL</td>\n",
              "      <td>18/11/2011</td>\n",
              "      <td>210.0</td>\n",
              "      <td>3.0</td>\n",
              "      <td>3.0</td>\n",
              "      <td>4.0</td>\n",
              "      <td>NÃO</td>\n",
              "      <td>SIM</td>\n",
              "      <td>SIM</td>\n",
              "    </tr>\n",
              "  </tbody>\n",
              "</table>\n",
              "</div>\n",
              "    <div class=\"colab-df-buttons\">\n",
              "\n",
              "  <div class=\"colab-df-container\">\n",
              "    <button class=\"colab-df-convert\" onclick=\"convertToInteractive('df-e9f82280-d42a-4289-b751-479cbb68450f')\"\n",
              "            title=\"Convert this dataframe to an interactive table.\"\n",
              "            style=\"display:none;\">\n",
              "\n",
              "  <svg xmlns=\"http://www.w3.org/2000/svg\" height=\"24px\" viewBox=\"0 -960 960 960\">\n",
              "    <path d=\"M120-120v-720h720v720H120Zm60-500h600v-160H180v160Zm220 220h160v-160H400v160Zm0 220h160v-160H400v160ZM180-400h160v-160H180v160Zm440 0h160v-160H620v160ZM180-180h160v-160H180v160Zm440 0h160v-160H620v160Z\"/>\n",
              "  </svg>\n",
              "    </button>\n",
              "\n",
              "  <style>\n",
              "    .colab-df-container {\n",
              "      display:flex;\n",
              "      gap: 12px;\n",
              "    }\n",
              "\n",
              "    .colab-df-convert {\n",
              "      background-color: #E8F0FE;\n",
              "      border: none;\n",
              "      border-radius: 50%;\n",
              "      cursor: pointer;\n",
              "      display: none;\n",
              "      fill: #1967D2;\n",
              "      height: 32px;\n",
              "      padding: 0 0 0 0;\n",
              "      width: 32px;\n",
              "    }\n",
              "\n",
              "    .colab-df-convert:hover {\n",
              "      background-color: #E2EBFA;\n",
              "      box-shadow: 0px 1px 2px rgba(60, 64, 67, 0.3), 0px 1px 3px 1px rgba(60, 64, 67, 0.15);\n",
              "      fill: #174EA6;\n",
              "    }\n",
              "\n",
              "    .colab-df-buttons div {\n",
              "      margin-bottom: 4px;\n",
              "    }\n",
              "\n",
              "    [theme=dark] .colab-df-convert {\n",
              "      background-color: #3B4455;\n",
              "      fill: #D2E3FC;\n",
              "    }\n",
              "\n",
              "    [theme=dark] .colab-df-convert:hover {\n",
              "      background-color: #434B5C;\n",
              "      box-shadow: 0px 1px 3px 1px rgba(0, 0, 0, 0.15);\n",
              "      filter: drop-shadow(0px 1px 2px rgba(0, 0, 0, 0.3));\n",
              "      fill: #FFFFFF;\n",
              "    }\n",
              "  </style>\n",
              "\n",
              "    <script>\n",
              "      const buttonEl =\n",
              "        document.querySelector('#df-e9f82280-d42a-4289-b751-479cbb68450f button.colab-df-convert');\n",
              "      buttonEl.style.display =\n",
              "        google.colab.kernel.accessAllowed ? 'block' : 'none';\n",
              "\n",
              "      async function convertToInteractive(key) {\n",
              "        const element = document.querySelector('#df-e9f82280-d42a-4289-b751-479cbb68450f');\n",
              "        const dataTable =\n",
              "          await google.colab.kernel.invokeFunction('convertToInteractive',\n",
              "                                                    [key], {});\n",
              "        if (!dataTable) return;\n",
              "\n",
              "        const docLinkHtml = 'Like what you see? Visit the ' +\n",
              "          '<a target=\"_blank\" href=https://colab.research.google.com/notebooks/data_table.ipynb>data table notebook</a>'\n",
              "          + ' to learn more about interactive tables.';\n",
              "        element.innerHTML = '';\n",
              "        dataTable['output_type'] = 'display_data';\n",
              "        await google.colab.output.renderOutput(dataTable, element);\n",
              "        const docLink = document.createElement('div');\n",
              "        docLink.innerHTML = docLinkHtml;\n",
              "        element.appendChild(docLink);\n",
              "      }\n",
              "    </script>\n",
              "  </div>\n",
              "\n",
              "\n",
              "<div id=\"df-e7ac109e-fa37-4afc-9cef-3b89b8ce8a2b\">\n",
              "  <button class=\"colab-df-quickchart\" onclick=\"quickchart('df-e7ac109e-fa37-4afc-9cef-3b89b8ce8a2b')\"\n",
              "            title=\"Suggest charts\"\n",
              "            style=\"display:none;\">\n",
              "\n",
              "<svg xmlns=\"http://www.w3.org/2000/svg\" height=\"24px\"viewBox=\"0 0 24 24\"\n",
              "     width=\"24px\">\n",
              "    <g>\n",
              "        <path d=\"M19 3H5c-1.1 0-2 .9-2 2v14c0 1.1.9 2 2 2h14c1.1 0 2-.9 2-2V5c0-1.1-.9-2-2-2zM9 17H7v-7h2v7zm4 0h-2V7h2v10zm4 0h-2v-4h2v4z\"/>\n",
              "    </g>\n",
              "</svg>\n",
              "  </button>\n",
              "\n",
              "<style>\n",
              "  .colab-df-quickchart {\n",
              "      --bg-color: #E8F0FE;\n",
              "      --fill-color: #1967D2;\n",
              "      --hover-bg-color: #E2EBFA;\n",
              "      --hover-fill-color: #174EA6;\n",
              "      --disabled-fill-color: #AAA;\n",
              "      --disabled-bg-color: #DDD;\n",
              "  }\n",
              "\n",
              "  [theme=dark] .colab-df-quickchart {\n",
              "      --bg-color: #3B4455;\n",
              "      --fill-color: #D2E3FC;\n",
              "      --hover-bg-color: #434B5C;\n",
              "      --hover-fill-color: #FFFFFF;\n",
              "      --disabled-bg-color: #3B4455;\n",
              "      --disabled-fill-color: #666;\n",
              "  }\n",
              "\n",
              "  .colab-df-quickchart {\n",
              "    background-color: var(--bg-color);\n",
              "    border: none;\n",
              "    border-radius: 50%;\n",
              "    cursor: pointer;\n",
              "    display: none;\n",
              "    fill: var(--fill-color);\n",
              "    height: 32px;\n",
              "    padding: 0;\n",
              "    width: 32px;\n",
              "  }\n",
              "\n",
              "  .colab-df-quickchart:hover {\n",
              "    background-color: var(--hover-bg-color);\n",
              "    box-shadow: 0 1px 2px rgba(60, 64, 67, 0.3), 0 1px 3px 1px rgba(60, 64, 67, 0.15);\n",
              "    fill: var(--button-hover-fill-color);\n",
              "  }\n",
              "\n",
              "  .colab-df-quickchart-complete:disabled,\n",
              "  .colab-df-quickchart-complete:disabled:hover {\n",
              "    background-color: var(--disabled-bg-color);\n",
              "    fill: var(--disabled-fill-color);\n",
              "    box-shadow: none;\n",
              "  }\n",
              "\n",
              "  .colab-df-spinner {\n",
              "    border: 2px solid var(--fill-color);\n",
              "    border-color: transparent;\n",
              "    border-bottom-color: var(--fill-color);\n",
              "    animation:\n",
              "      spin 1s steps(1) infinite;\n",
              "  }\n",
              "\n",
              "  @keyframes spin {\n",
              "    0% {\n",
              "      border-color: transparent;\n",
              "      border-bottom-color: var(--fill-color);\n",
              "      border-left-color: var(--fill-color);\n",
              "    }\n",
              "    20% {\n",
              "      border-color: transparent;\n",
              "      border-left-color: var(--fill-color);\n",
              "      border-top-color: var(--fill-color);\n",
              "    }\n",
              "    30% {\n",
              "      border-color: transparent;\n",
              "      border-left-color: var(--fill-color);\n",
              "      border-top-color: var(--fill-color);\n",
              "      border-right-color: var(--fill-color);\n",
              "    }\n",
              "    40% {\n",
              "      border-color: transparent;\n",
              "      border-right-color: var(--fill-color);\n",
              "      border-top-color: var(--fill-color);\n",
              "    }\n",
              "    60% {\n",
              "      border-color: transparent;\n",
              "      border-right-color: var(--fill-color);\n",
              "    }\n",
              "    80% {\n",
              "      border-color: transparent;\n",
              "      border-right-color: var(--fill-color);\n",
              "      border-bottom-color: var(--fill-color);\n",
              "    }\n",
              "    90% {\n",
              "      border-color: transparent;\n",
              "      border-bottom-color: var(--fill-color);\n",
              "    }\n",
              "  }\n",
              "</style>\n",
              "\n",
              "  <script>\n",
              "    async function quickchart(key) {\n",
              "      const quickchartButtonEl =\n",
              "        document.querySelector('#' + key + ' button');\n",
              "      quickchartButtonEl.disabled = true;  // To prevent multiple clicks.\n",
              "      quickchartButtonEl.classList.add('colab-df-spinner');\n",
              "      try {\n",
              "        const charts = await google.colab.kernel.invokeFunction(\n",
              "            'suggestCharts', [key], {});\n",
              "      } catch (error) {\n",
              "        console.error('Error during call to suggestCharts:', error);\n",
              "      }\n",
              "      quickchartButtonEl.classList.remove('colab-df-spinner');\n",
              "      quickchartButtonEl.classList.add('colab-df-quickchart-complete');\n",
              "    }\n",
              "    (() => {\n",
              "      let quickchartButtonEl =\n",
              "        document.querySelector('#df-e7ac109e-fa37-4afc-9cef-3b89b8ce8a2b button');\n",
              "      quickchartButtonEl.style.display =\n",
              "        google.colab.kernel.accessAllowed ? 'block' : 'none';\n",
              "    })();\n",
              "  </script>\n",
              "</div>\n",
              "\n",
              "    </div>\n",
              "  </div>\n"
            ],
            "application/vnd.google.colaboratory.intrinsic+json": {
              "type": "dataframe",
              "variable_name": "df_regular_limpo",
              "summary": "{\n  \"name\": \"df_regular_limpo\",\n  \"rows\": 3373,\n  \"fields\": [\n    {\n      \"column\": \"Nome Sala\",\n      \"properties\": {\n        \"dtype\": \"string\",\n        \"num_unique_values\": 3327,\n        \"samples\": [\n          \"ELDORADO 02\",\n          \"MULTIPLEX VIA NORTE MANAUS SALA 02\",\n          \"UCI PARK SHOPPING CANOAS SALA 04\"\n        ],\n        \"semantic_type\": \"\",\n        \"description\": \"\"\n      }\n    },\n    {\n      \"column\": \"UF\",\n      \"properties\": {\n        \"dtype\": \"category\",\n        \"num_unique_values\": 27,\n        \"samples\": [\n          \"BA\",\n          \"SE\",\n          \"RS\"\n        ],\n        \"semantic_type\": \"\",\n        \"description\": \"\"\n      }\n    },\n    {\n      \"column\": \"Municipio\",\n      \"properties\": {\n        \"dtype\": \"category\",\n        \"num_unique_values\": 428,\n        \"samples\": [\n          \"CORUMB\\u00c1\",\n          \"CAP\\u00c3O DA CANOA\",\n          \"SOROCABA\"\n        ],\n        \"semantic_type\": \"\",\n        \"description\": \"\"\n      }\n    },\n    {\n      \"column\": \"Inicio Funcionamento\",\n      \"properties\": {\n        \"dtype\": \"object\",\n        \"num_unique_values\": 816,\n        \"samples\": [\n          \"30/01/2020\",\n          \"24/11/2022\",\n          \"27/05/2021\"\n        ],\n        \"semantic_type\": \"\",\n        \"description\": \"\"\n      }\n    },\n    {\n      \"column\": \"Assentos na Sala\",\n      \"properties\": {\n        \"dtype\": \"number\",\n        \"std\": 99.28550555401165,\n        \"min\": 0.0,\n        \"max\": 2000.0,\n        \"num_unique_values\": 418,\n        \"samples\": [\n          396.0,\n          69.0,\n          521.0\n        ],\n        \"semantic_type\": \"\",\n        \"description\": \"\"\n      }\n    },\n    {\n      \"column\": \"Assentos para Obesos\",\n      \"properties\": {\n        \"dtype\": \"number\",\n        \"std\": 6.3220447895733844,\n        \"min\": -1.0,\n        \"max\": 100.0,\n        \"num_unique_values\": 46,\n        \"samples\": [\n          56.0,\n          44.0,\n          38.0\n        ],\n        \"semantic_type\": \"\",\n        \"description\": \"\"\n      }\n    },\n    {\n      \"column\": \"Assentos Mob. Red.\",\n      \"properties\": {\n        \"dtype\": \"number\",\n        \"std\": 3.1418070901800306,\n        \"min\": -1.0,\n        \"max\": 70.0,\n        \"num_unique_values\": 29,\n        \"samples\": [\n          18.0,\n          30.0,\n          25.0\n        ],\n        \"semantic_type\": \"\",\n        \"description\": \"\"\n      }\n    },\n    {\n      \"column\": \"Assentos Cadeirantes\",\n      \"properties\": {\n        \"dtype\": \"number\",\n        \"std\": 2.5992962316342583,\n        \"min\": 0.0,\n        \"max\": 87.0,\n        \"num_unique_values\": 20,\n        \"samples\": [\n          8.0,\n          40.0,\n          30.0\n        ],\n        \"semantic_type\": \"\",\n        \"description\": \"\"\n      }\n    },\n    {\n      \"column\": \"Acesso Sala com Rampa\",\n      \"properties\": {\n        \"dtype\": \"category\",\n        \"num_unique_values\": 2,\n        \"samples\": [\n          \"SIM\",\n          \"N\\u00c3O\"\n        ],\n        \"semantic_type\": \"\",\n        \"description\": \"\"\n      }\n    },\n    {\n      \"column\": \"Acesso Assentos com Rampa\",\n      \"properties\": {\n        \"dtype\": \"category\",\n        \"num_unique_values\": 2,\n        \"samples\": [\n          \"N\\u00c3O\",\n          \"SIM\"\n        ],\n        \"semantic_type\": \"\",\n        \"description\": \"\"\n      }\n    },\n    {\n      \"column\": \"Banheiros Acessiveis\",\n      \"properties\": {\n        \"dtype\": \"category\",\n        \"num_unique_values\": 2,\n        \"samples\": [\n          \"N\\u00c3O\",\n          \"SIM\"\n        ],\n        \"semantic_type\": \"\",\n        \"description\": \"\"\n      }\n    }\n  ]\n}"
            }
          },
          "metadata": {},
          "execution_count": 12
        }
      ],
      "source": [
        "#ordenando e renomeando as colunas das salas regulares em funcionamento\n",
        "colunas_desejadas_regular = {\n",
        "        'NOME_SALA': 'Nome Sala',\n",
        "        'UF_COMPLEXO': 'UF',\n",
        "        'MUNICIPIO_COMPLEXO': 'Municipio',\n",
        "        'DATA_INICIO_FUNCIONAMENTO_SALA': 'Inicio Funcionamento',\n",
        "        'ASSENTOS_SALA': 'Assentos na Sala',\n",
        "        'ASSENTOS_OBESIDADE': 'Assentos para Obesos',\n",
        "        'ASSENTOS_MOBILIDADE_REDUZIDA': 'Assentos Mob. Red.',\n",
        "        'ASSENTOS_CADEIRANTES': 'Assentos Cadeirantes',\n",
        "        'ACESSO_SALA_COM_RAMPA': 'Acesso Sala com Rampa',\n",
        "        'ACESSO_ASSENTOS_COM_RAMPA': 'Acesso Assentos com Rampa',\n",
        "        'BANHEIROS_ACESSIVEIS': 'Banheiros Acessiveis'\n",
        "    }\n",
        "\n",
        "#criando um DataFrame de salas regulares em funcionamento com apenas 11 colunas\n",
        "df_regular_limpo = cine_df_regular_em_funcionamento[list(colunas_desejadas_regular.keys())].rename(columns=colunas_desejadas_regular)\n",
        "df_regular_limpo.head()"
      ]
    },
    {
      "cell_type": "code",
      "execution_count": 13,
      "metadata": {
        "id": "EZxZIo5uRIN6",
        "colab": {
          "base_uri": "https://localhost:8080/",
          "height": 258
        },
        "outputId": "05ccecb8-0b4d-4631-c914-487975636f6d"
      },
      "outputs": [
        {
          "output_type": "execute_result",
          "data": {
            "text/plain": [
              "                         Nome Sala  UF              Municipio  \\\n",
              "0              CINE TEATRO PEGASUS  SP  SÃO BERNARDO DO CAMPO   \n",
              "1                     CINE AVENIDA  SP              SÃO PAULO   \n",
              "2                   CINE LAS VEGAS  SP              SÃO PAULO   \n",
              "3                         ARTECINE  SC     BALNEÁRIO CAMBORIÚ   \n",
              "4  ASSOCIAÇÃO COMUNITÁRIA MADRIGAL  SP             COSMÓPOLIS   \n",
              "\n",
              "  Inicio Funcionamento  Assentos na Sala  Assentos para Obesos  \\\n",
              "0           02/04/2002             417.0                   NaN   \n",
              "1           02/09/1975             260.0                   NaN   \n",
              "2           02/09/1975             285.0                   NaN   \n",
              "3           10/07/2017              40.0                   1.0   \n",
              "4           01/02/2008             200.0                   NaN   \n",
              "\n",
              "   Assentos Mob. Red.  Assentos Cadeirantes Acesso Sala com Rampa  \\\n",
              "0                 NaN                   NaN                   NÃO   \n",
              "1                 NaN                   NaN                   NÃO   \n",
              "2                 NaN                   NaN                   NÃO   \n",
              "3                 6.0                   1.0                   NÃO   \n",
              "4                 NaN                   NaN                   NÃO   \n",
              "\n",
              "  Acesso Assentos com Rampa Banheiros Acessiveis  \n",
              "0                       NÃO                  NÃO  \n",
              "1                       NÃO                  NÃO  \n",
              "2                       NÃO                  NÃO  \n",
              "3                       NÃO                  SIM  \n",
              "4                       NÃO                  NÃO  "
            ],
            "text/html": [
              "\n",
              "  <div id=\"df-3aca970f-56a2-4732-9676-3c546c946b34\" class=\"colab-df-container\">\n",
              "    <div>\n",
              "<style scoped>\n",
              "    .dataframe tbody tr th:only-of-type {\n",
              "        vertical-align: middle;\n",
              "    }\n",
              "\n",
              "    .dataframe tbody tr th {\n",
              "        vertical-align: top;\n",
              "    }\n",
              "\n",
              "    .dataframe thead th {\n",
              "        text-align: right;\n",
              "    }\n",
              "</style>\n",
              "<table border=\"1\" class=\"dataframe\">\n",
              "  <thead>\n",
              "    <tr style=\"text-align: right;\">\n",
              "      <th></th>\n",
              "      <th>Nome Sala</th>\n",
              "      <th>UF</th>\n",
              "      <th>Municipio</th>\n",
              "      <th>Inicio Funcionamento</th>\n",
              "      <th>Assentos na Sala</th>\n",
              "      <th>Assentos para Obesos</th>\n",
              "      <th>Assentos Mob. Red.</th>\n",
              "      <th>Assentos Cadeirantes</th>\n",
              "      <th>Acesso Sala com Rampa</th>\n",
              "      <th>Acesso Assentos com Rampa</th>\n",
              "      <th>Banheiros Acessiveis</th>\n",
              "    </tr>\n",
              "  </thead>\n",
              "  <tbody>\n",
              "    <tr>\n",
              "      <th>0</th>\n",
              "      <td>CINE TEATRO PEGASUS</td>\n",
              "      <td>SP</td>\n",
              "      <td>SÃO BERNARDO DO CAMPO</td>\n",
              "      <td>02/04/2002</td>\n",
              "      <td>417.0</td>\n",
              "      <td>NaN</td>\n",
              "      <td>NaN</td>\n",
              "      <td>NaN</td>\n",
              "      <td>NÃO</td>\n",
              "      <td>NÃO</td>\n",
              "      <td>NÃO</td>\n",
              "    </tr>\n",
              "    <tr>\n",
              "      <th>1</th>\n",
              "      <td>CINE AVENIDA</td>\n",
              "      <td>SP</td>\n",
              "      <td>SÃO PAULO</td>\n",
              "      <td>02/09/1975</td>\n",
              "      <td>260.0</td>\n",
              "      <td>NaN</td>\n",
              "      <td>NaN</td>\n",
              "      <td>NaN</td>\n",
              "      <td>NÃO</td>\n",
              "      <td>NÃO</td>\n",
              "      <td>NÃO</td>\n",
              "    </tr>\n",
              "    <tr>\n",
              "      <th>2</th>\n",
              "      <td>CINE LAS VEGAS</td>\n",
              "      <td>SP</td>\n",
              "      <td>SÃO PAULO</td>\n",
              "      <td>02/09/1975</td>\n",
              "      <td>285.0</td>\n",
              "      <td>NaN</td>\n",
              "      <td>NaN</td>\n",
              "      <td>NaN</td>\n",
              "      <td>NÃO</td>\n",
              "      <td>NÃO</td>\n",
              "      <td>NÃO</td>\n",
              "    </tr>\n",
              "    <tr>\n",
              "      <th>3</th>\n",
              "      <td>ARTECINE</td>\n",
              "      <td>SC</td>\n",
              "      <td>BALNEÁRIO CAMBORIÚ</td>\n",
              "      <td>10/07/2017</td>\n",
              "      <td>40.0</td>\n",
              "      <td>1.0</td>\n",
              "      <td>6.0</td>\n",
              "      <td>1.0</td>\n",
              "      <td>NÃO</td>\n",
              "      <td>NÃO</td>\n",
              "      <td>SIM</td>\n",
              "    </tr>\n",
              "    <tr>\n",
              "      <th>4</th>\n",
              "      <td>ASSOCIAÇÃO COMUNITÁRIA MADRIGAL</td>\n",
              "      <td>SP</td>\n",
              "      <td>COSMÓPOLIS</td>\n",
              "      <td>01/02/2008</td>\n",
              "      <td>200.0</td>\n",
              "      <td>NaN</td>\n",
              "      <td>NaN</td>\n",
              "      <td>NaN</td>\n",
              "      <td>NÃO</td>\n",
              "      <td>NÃO</td>\n",
              "      <td>NÃO</td>\n",
              "    </tr>\n",
              "  </tbody>\n",
              "</table>\n",
              "</div>\n",
              "    <div class=\"colab-df-buttons\">\n",
              "\n",
              "  <div class=\"colab-df-container\">\n",
              "    <button class=\"colab-df-convert\" onclick=\"convertToInteractive('df-3aca970f-56a2-4732-9676-3c546c946b34')\"\n",
              "            title=\"Convert this dataframe to an interactive table.\"\n",
              "            style=\"display:none;\">\n",
              "\n",
              "  <svg xmlns=\"http://www.w3.org/2000/svg\" height=\"24px\" viewBox=\"0 -960 960 960\">\n",
              "    <path d=\"M120-120v-720h720v720H120Zm60-500h600v-160H180v160Zm220 220h160v-160H400v160Zm0 220h160v-160H400v160ZM180-400h160v-160H180v160Zm440 0h160v-160H620v160ZM180-180h160v-160H180v160Zm440 0h160v-160H620v160Z\"/>\n",
              "  </svg>\n",
              "    </button>\n",
              "\n",
              "  <style>\n",
              "    .colab-df-container {\n",
              "      display:flex;\n",
              "      gap: 12px;\n",
              "    }\n",
              "\n",
              "    .colab-df-convert {\n",
              "      background-color: #E8F0FE;\n",
              "      border: none;\n",
              "      border-radius: 50%;\n",
              "      cursor: pointer;\n",
              "      display: none;\n",
              "      fill: #1967D2;\n",
              "      height: 32px;\n",
              "      padding: 0 0 0 0;\n",
              "      width: 32px;\n",
              "    }\n",
              "\n",
              "    .colab-df-convert:hover {\n",
              "      background-color: #E2EBFA;\n",
              "      box-shadow: 0px 1px 2px rgba(60, 64, 67, 0.3), 0px 1px 3px 1px rgba(60, 64, 67, 0.15);\n",
              "      fill: #174EA6;\n",
              "    }\n",
              "\n",
              "    .colab-df-buttons div {\n",
              "      margin-bottom: 4px;\n",
              "    }\n",
              "\n",
              "    [theme=dark] .colab-df-convert {\n",
              "      background-color: #3B4455;\n",
              "      fill: #D2E3FC;\n",
              "    }\n",
              "\n",
              "    [theme=dark] .colab-df-convert:hover {\n",
              "      background-color: #434B5C;\n",
              "      box-shadow: 0px 1px 3px 1px rgba(0, 0, 0, 0.15);\n",
              "      filter: drop-shadow(0px 1px 2px rgba(0, 0, 0, 0.3));\n",
              "      fill: #FFFFFF;\n",
              "    }\n",
              "  </style>\n",
              "\n",
              "    <script>\n",
              "      const buttonEl =\n",
              "        document.querySelector('#df-3aca970f-56a2-4732-9676-3c546c946b34 button.colab-df-convert');\n",
              "      buttonEl.style.display =\n",
              "        google.colab.kernel.accessAllowed ? 'block' : 'none';\n",
              "\n",
              "      async function convertToInteractive(key) {\n",
              "        const element = document.querySelector('#df-3aca970f-56a2-4732-9676-3c546c946b34');\n",
              "        const dataTable =\n",
              "          await google.colab.kernel.invokeFunction('convertToInteractive',\n",
              "                                                    [key], {});\n",
              "        if (!dataTable) return;\n",
              "\n",
              "        const docLinkHtml = 'Like what you see? Visit the ' +\n",
              "          '<a target=\"_blank\" href=https://colab.research.google.com/notebooks/data_table.ipynb>data table notebook</a>'\n",
              "          + ' to learn more about interactive tables.';\n",
              "        element.innerHTML = '';\n",
              "        dataTable['output_type'] = 'display_data';\n",
              "        await google.colab.output.renderOutput(dataTable, element);\n",
              "        const docLink = document.createElement('div');\n",
              "        docLink.innerHTML = docLinkHtml;\n",
              "        element.appendChild(docLink);\n",
              "      }\n",
              "    </script>\n",
              "  </div>\n",
              "\n",
              "\n",
              "<div id=\"df-ea9bb031-8b4f-489c-9c7a-ddfe8a5a9e0f\">\n",
              "  <button class=\"colab-df-quickchart\" onclick=\"quickchart('df-ea9bb031-8b4f-489c-9c7a-ddfe8a5a9e0f')\"\n",
              "            title=\"Suggest charts\"\n",
              "            style=\"display:none;\">\n",
              "\n",
              "<svg xmlns=\"http://www.w3.org/2000/svg\" height=\"24px\"viewBox=\"0 0 24 24\"\n",
              "     width=\"24px\">\n",
              "    <g>\n",
              "        <path d=\"M19 3H5c-1.1 0-2 .9-2 2v14c0 1.1.9 2 2 2h14c1.1 0 2-.9 2-2V5c0-1.1-.9-2-2-2zM9 17H7v-7h2v7zm4 0h-2V7h2v10zm4 0h-2v-4h2v4z\"/>\n",
              "    </g>\n",
              "</svg>\n",
              "  </button>\n",
              "\n",
              "<style>\n",
              "  .colab-df-quickchart {\n",
              "      --bg-color: #E8F0FE;\n",
              "      --fill-color: #1967D2;\n",
              "      --hover-bg-color: #E2EBFA;\n",
              "      --hover-fill-color: #174EA6;\n",
              "      --disabled-fill-color: #AAA;\n",
              "      --disabled-bg-color: #DDD;\n",
              "  }\n",
              "\n",
              "  [theme=dark] .colab-df-quickchart {\n",
              "      --bg-color: #3B4455;\n",
              "      --fill-color: #D2E3FC;\n",
              "      --hover-bg-color: #434B5C;\n",
              "      --hover-fill-color: #FFFFFF;\n",
              "      --disabled-bg-color: #3B4455;\n",
              "      --disabled-fill-color: #666;\n",
              "  }\n",
              "\n",
              "  .colab-df-quickchart {\n",
              "    background-color: var(--bg-color);\n",
              "    border: none;\n",
              "    border-radius: 50%;\n",
              "    cursor: pointer;\n",
              "    display: none;\n",
              "    fill: var(--fill-color);\n",
              "    height: 32px;\n",
              "    padding: 0;\n",
              "    width: 32px;\n",
              "  }\n",
              "\n",
              "  .colab-df-quickchart:hover {\n",
              "    background-color: var(--hover-bg-color);\n",
              "    box-shadow: 0 1px 2px rgba(60, 64, 67, 0.3), 0 1px 3px 1px rgba(60, 64, 67, 0.15);\n",
              "    fill: var(--button-hover-fill-color);\n",
              "  }\n",
              "\n",
              "  .colab-df-quickchart-complete:disabled,\n",
              "  .colab-df-quickchart-complete:disabled:hover {\n",
              "    background-color: var(--disabled-bg-color);\n",
              "    fill: var(--disabled-fill-color);\n",
              "    box-shadow: none;\n",
              "  }\n",
              "\n",
              "  .colab-df-spinner {\n",
              "    border: 2px solid var(--fill-color);\n",
              "    border-color: transparent;\n",
              "    border-bottom-color: var(--fill-color);\n",
              "    animation:\n",
              "      spin 1s steps(1) infinite;\n",
              "  }\n",
              "\n",
              "  @keyframes spin {\n",
              "    0% {\n",
              "      border-color: transparent;\n",
              "      border-bottom-color: var(--fill-color);\n",
              "      border-left-color: var(--fill-color);\n",
              "    }\n",
              "    20% {\n",
              "      border-color: transparent;\n",
              "      border-left-color: var(--fill-color);\n",
              "      border-top-color: var(--fill-color);\n",
              "    }\n",
              "    30% {\n",
              "      border-color: transparent;\n",
              "      border-left-color: var(--fill-color);\n",
              "      border-top-color: var(--fill-color);\n",
              "      border-right-color: var(--fill-color);\n",
              "    }\n",
              "    40% {\n",
              "      border-color: transparent;\n",
              "      border-right-color: var(--fill-color);\n",
              "      border-top-color: var(--fill-color);\n",
              "    }\n",
              "    60% {\n",
              "      border-color: transparent;\n",
              "      border-right-color: var(--fill-color);\n",
              "    }\n",
              "    80% {\n",
              "      border-color: transparent;\n",
              "      border-right-color: var(--fill-color);\n",
              "      border-bottom-color: var(--fill-color);\n",
              "    }\n",
              "    90% {\n",
              "      border-color: transparent;\n",
              "      border-bottom-color: var(--fill-color);\n",
              "    }\n",
              "  }\n",
              "</style>\n",
              "\n",
              "  <script>\n",
              "    async function quickchart(key) {\n",
              "      const quickchartButtonEl =\n",
              "        document.querySelector('#' + key + ' button');\n",
              "      quickchartButtonEl.disabled = true;  // To prevent multiple clicks.\n",
              "      quickchartButtonEl.classList.add('colab-df-spinner');\n",
              "      try {\n",
              "        const charts = await google.colab.kernel.invokeFunction(\n",
              "            'suggestCharts', [key], {});\n",
              "      } catch (error) {\n",
              "        console.error('Error during call to suggestCharts:', error);\n",
              "      }\n",
              "      quickchartButtonEl.classList.remove('colab-df-spinner');\n",
              "      quickchartButtonEl.classList.add('colab-df-quickchart-complete');\n",
              "    }\n",
              "    (() => {\n",
              "      let quickchartButtonEl =\n",
              "        document.querySelector('#df-ea9bb031-8b4f-489c-9c7a-ddfe8a5a9e0f button');\n",
              "      quickchartButtonEl.style.display =\n",
              "        google.colab.kernel.accessAllowed ? 'block' : 'none';\n",
              "    })();\n",
              "  </script>\n",
              "</div>\n",
              "\n",
              "    </div>\n",
              "  </div>\n"
            ],
            "application/vnd.google.colaboratory.intrinsic+json": {
              "type": "dataframe",
              "variable_name": "df_irregular_limpo",
              "summary": "{\n  \"name\": \"df_irregular_limpo\",\n  \"rows\": 390,\n  \"fields\": [\n    {\n      \"column\": \"Nome Sala\",\n      \"properties\": {\n        \"dtype\": \"string\",\n        \"num_unique_values\": 366,\n        \"samples\": [\n          \"FUNDACAO JOAQUIM NABUCO FUNDAJ\",\n          \"CENTERPLEX MAG SHOPPING - SALA 01\",\n          \"CENTERPLEX CARPINA 01\"\n        ],\n        \"semantic_type\": \"\",\n        \"description\": \"\"\n      }\n    },\n    {\n      \"column\": \"UF\",\n      \"properties\": {\n        \"dtype\": \"category\",\n        \"num_unique_values\": 20,\n        \"samples\": [\n          \"SP\",\n          \"ES\",\n          \"AC\"\n        ],\n        \"semantic_type\": \"\",\n        \"description\": \"\"\n      }\n    },\n    {\n      \"column\": \"Municipio\",\n      \"properties\": {\n        \"dtype\": \"category\",\n        \"num_unique_values\": 115,\n        \"samples\": [\n          \"JARDIN\\u00d3POLIS\",\n          \"RIO DE JANEIRO\",\n          \"S\\u00c3O CARLOS\"\n        ],\n        \"semantic_type\": \"\",\n        \"description\": \"\"\n      }\n    },\n    {\n      \"column\": \"Inicio Funcionamento\",\n      \"properties\": {\n        \"dtype\": \"string\",\n        \"num_unique_values\": 197,\n        \"samples\": [\n          \"03/03/1977\",\n          \"27/05/2015\",\n          \"19/06/2020\"\n        ],\n        \"semantic_type\": \"\",\n        \"description\": \"\"\n      }\n    },\n    {\n      \"column\": \"Assentos na Sala\",\n      \"properties\": {\n        \"dtype\": \"number\",\n        \"std\": 120.69520929607816,\n        \"min\": 0.0,\n        \"max\": 1200.0,\n        \"num_unique_values\": 193,\n        \"samples\": [\n          41.0,\n          195.0,\n          96.0\n        ],\n        \"semantic_type\": \"\",\n        \"description\": \"\"\n      }\n    },\n    {\n      \"column\": \"Assentos para Obesos\",\n      \"properties\": {\n        \"dtype\": \"number\",\n        \"std\": 5.191356592157027,\n        \"min\": 0.0,\n        \"max\": 30.0,\n        \"num_unique_values\": 20,\n        \"samples\": [\n          1.0,\n          10.0,\n          13.0\n        ],\n        \"semantic_type\": \"\",\n        \"description\": \"\"\n      }\n    },\n    {\n      \"column\": \"Assentos Mob. Red.\",\n      \"properties\": {\n        \"dtype\": \"number\",\n        \"std\": 3.6803713814775008,\n        \"min\": 0.0,\n        \"max\": 30.0,\n        \"num_unique_values\": 15,\n        \"samples\": [\n          20.0,\n          30.0,\n          6.0\n        ],\n        \"semantic_type\": \"\",\n        \"description\": \"\"\n      }\n    },\n    {\n      \"column\": \"Assentos Cadeirantes\",\n      \"properties\": {\n        \"dtype\": \"number\",\n        \"std\": 2.648566621599591,\n        \"min\": 0.0,\n        \"max\": 30.0,\n        \"num_unique_values\": 13,\n        \"samples\": [\n          9.0,\n          12.0,\n          1.0\n        ],\n        \"semantic_type\": \"\",\n        \"description\": \"\"\n      }\n    },\n    {\n      \"column\": \"Acesso Sala com Rampa\",\n      \"properties\": {\n        \"dtype\": \"category\",\n        \"num_unique_values\": 2,\n        \"samples\": [\n          \"SIM\",\n          \"N\\u00c3O\"\n        ],\n        \"semantic_type\": \"\",\n        \"description\": \"\"\n      }\n    },\n    {\n      \"column\": \"Acesso Assentos com Rampa\",\n      \"properties\": {\n        \"dtype\": \"category\",\n        \"num_unique_values\": 2,\n        \"samples\": [\n          \"SIM\",\n          \"N\\u00c3O\"\n        ],\n        \"semantic_type\": \"\",\n        \"description\": \"\"\n      }\n    },\n    {\n      \"column\": \"Banheiros Acessiveis\",\n      \"properties\": {\n        \"dtype\": \"category\",\n        \"num_unique_values\": 2,\n        \"samples\": [\n          \"SIM\",\n          \"N\\u00c3O\"\n        ],\n        \"semantic_type\": \"\",\n        \"description\": \"\"\n      }\n    }\n  ]\n}"
            }
          },
          "metadata": {},
          "execution_count": 13
        }
      ],
      "source": [
        "#ordenando e renomeando as colunas das salas irregulares em funcionamento\n",
        "colunas_desejadas_irregular = {\n",
        "        'NOME_SALA': 'Nome Sala',\n",
        "        'UF_COMPLEXO': 'UF',\n",
        "        'MUNICIPIO_COMPLEXO': 'Municipio',\n",
        "        'DATA_INICIO_FUNCIONAMENTO_SALA': 'Inicio Funcionamento',\n",
        "        'ASSENTOS_SALA': 'Assentos na Sala',\n",
        "        'ASSENTOS_OBESIDADE': 'Assentos para Obesos',\n",
        "        'ASSENTOS_MOBILIDADE_REDUZIDA': 'Assentos Mob. Red.',\n",
        "        'ASSENTOS_CADEIRANTES': 'Assentos Cadeirantes',\n",
        "        'ACESSO_SALA_COM_RAMPA': 'Acesso Sala com Rampa',\n",
        "        'ACESSO_ASSENTOS_COM_RAMPA': 'Acesso Assentos com Rampa',\n",
        "        'BANHEIROS_ACESSIVEIS': 'Banheiros Acessiveis'\n",
        "    }\n",
        "\n",
        "#criando um DataFrame de salas irregulares em funcionamento com apenas 11 colunas\n",
        "df_irregular_limpo = cine_df_irregular_em_funcionamento[list(colunas_desejadas_irregular.keys())].rename(columns=colunas_desejadas_irregular)\n",
        "df_irregular_limpo.head()"
      ]
    },
    {
      "cell_type": "markdown",
      "source": [
        "- Notamos que existem alguns valores preenchidos como NaN(Not a Number), principalmente em colunas categóricas, como Nome Sala, UF e Municipio, além da coluna que contém datas, como Inicio Funcionamento. Esses valores não nos interessam, então vamos criar outro DataFrame excluindo esses valores NaN das referidas colunas."
      ],
      "metadata": {
        "id": "ZTMBHI6f5Nxq"
      }
    },
    {
      "cell_type": "code",
      "source": [
        "df_cleaned_regular = df_regular_limpo.dropna(subset=['Nome Sala', 'UF', 'Municipio', 'Inicio Funcionamento'])\n",
        "df_cleaned_irregular = df_irregular_limpo.dropna(subset=['Nome Sala', 'UF', 'Municipio', 'Inicio Funcionamento'])"
      ],
      "metadata": {
        "id": "mOjLSrli44kx"
      },
      "execution_count": 14,
      "outputs": []
    },
    {
      "cell_type": "markdown",
      "source": [
        "- Agora existem valores NaN em colunas numéricas. Nessas colunas queremos preencher tais valores com 0."
      ],
      "metadata": {
        "id": "suOe18pJ50aT"
      }
    },
    {
      "cell_type": "code",
      "execution_count": 15,
      "metadata": {
        "id": "GDKE0xa4RYeb",
        "colab": {
          "base_uri": "https://localhost:8080/"
        },
        "outputId": "47e40d4b-e803-45df-b351-4a5355b0974d"
      },
      "outputs": [
        {
          "output_type": "stream",
          "name": "stderr",
          "text": [
            "<ipython-input-15-d4138a6a42ff>:2: SettingWithCopyWarning: \n",
            "A value is trying to be set on a copy of a slice from a DataFrame\n",
            "\n",
            "See the caveats in the documentation: https://pandas.pydata.org/pandas-docs/stable/user_guide/indexing.html#returning-a-view-versus-a-copy\n",
            "  df_cleaned_regular.fillna(0, inplace=True)\n",
            "<ipython-input-15-d4138a6a42ff>:3: SettingWithCopyWarning: \n",
            "A value is trying to be set on a copy of a slice from a DataFrame\n",
            "\n",
            "See the caveats in the documentation: https://pandas.pydata.org/pandas-docs/stable/user_guide/indexing.html#returning-a-view-versus-a-copy\n",
            "  df_cleaned_irregular.fillna(0, inplace=True)\n"
          ]
        }
      ],
      "source": [
        "#preenchendo os valores NaN por zero\n",
        "df_cleaned_regular.fillna(0, inplace=True)\n",
        "df_cleaned_irregular.fillna(0, inplace=True)"
      ]
    },
    {
      "cell_type": "markdown",
      "metadata": {
        "id": "nLU0jW-1OTjj"
      },
      "source": [
        "## 4\\. Visualização"
      ]
    },
    {
      "cell_type": "markdown",
      "source": [
        "Primeiramente vamos criar dois gráficos em formato de barras com o Seaborn\n",
        "e Matplotlib. Cada um vai mostrar a quantidade de salas regulares e irregulares de cinema por Estados da Federação. No gráfico de salas irregulares podemos notar que existem alguns Estados que ficaram de fora da figura, pois não existem salas nessa condição em tais localidades, totalizando apenas 20 Estados."
      ],
      "metadata": {
        "id": "MpKc-p4gAA61"
      }
    },
    {
      "cell_type": "code",
      "source": [
        "# Gráfico de barras empilhadas para salas regulares\n",
        "sns.countplot(x='UF', data=df_cleaned_regular)\n",
        "plt.title('Salas Regulares por Estado')\n",
        "#criamos uma rotação nos ticks do eixo x para melhorar a visualização\n",
        "plt.xticks(rotation=90)\n",
        "plt.xlabel('Estados')\n",
        "plt.ylabel('Quantidade de Salas')\n",
        "plt.figure(figsize=(10,6))\n",
        "plt.show()\n",
        "\n",
        "# Gráfico de barras empilhadas para salas irregulares\n",
        "sns.countplot(x='UF', data=df_cleaned_irregular, color='red')\n",
        "plt.title('Salas Irregulares por Estado')\n",
        "plt.xlabel('Estados')\n",
        "plt.ylabel('Quantidade de Salas')\n",
        "plt.figure(figsize=(10,6))\n",
        "plt.show()"
      ],
      "metadata": {
        "id": "m3Vp8EILiZnc",
        "colab": {
          "base_uri": "https://localhost:8080/",
          "height": 970
        },
        "outputId": "30aadace-8401-4729-9ef2-e08b9630c916"
      },
      "execution_count": 16,
      "outputs": [
        {
          "output_type": "display_data",
          "data": {
            "text/plain": [
              "<Figure size 640x480 with 1 Axes>"
            ],
            "image/png": "[encoded data removed]"
          },
          "metadata": {}
        },
        {
          "output_type": "display_data",
          "data": {
            "text/plain": [
              "<Figure size 1000x600 with 0 Axes>"
            ]
          },
          "metadata": {}
        },
        {
          "output_type": "display_data",
          "data": {
            "text/plain": [
              "<Figure size 640x480 with 1 Axes>"
            ],
            "image/png": "[encoded data removed]"
          },
          "metadata": {}
        },
        {
          "output_type": "display_data",
          "data": {
            "text/plain": [
              "<Figure size 1000x600 with 0 Axes>"
            ]
          },
          "metadata": {}
        }
      ]
    },
    {
      "cell_type": "markdown",
      "source": [
        "- Podemos criar dois Insights com base nos gráficos acima. O Estado que mais possui salas regulares é o Estado de São Paulo e o que tem menos é o Acre. E quanto às salas irregulares verificamos pela análise do gráfico que o Estado que possui mais irregularidades é o de Minas Gerais, seguido em segundo lugar por São Paulo."
      ],
      "metadata": {
        "id": "LIj8gfM7DZ51"
      }
    },
    {
      "cell_type": "markdown",
      "source": [
        "- Vamos utilizar agora outra forma de visualização ao concatenarmos os dois DataFrames criados em um só, chamado df_cleaned. Dessa forma foi criada uma nova coluna chamada \"Regular\" com os valores 0(Não) e 1(Sim)."
      ],
      "metadata": {
        "id": "pbNIP8sWBVoc"
      }
    },
    {
      "cell_type": "code",
      "source": [
        "# Concatenando os dataframes\n",
        "df_cleaned = pd.concat([df_cleaned_regular, df_cleaned_irregular], ignore_index=True)\n",
        "\n",
        "# Criando a coluna 'regular'\n",
        "df_cleaned['Regular'] = 0\n",
        "df_cleaned.loc[df_cleaned.index[:len(df_cleaned_regular)], 'Regular'] = 1"
      ],
      "metadata": {
        "id": "7krRJ2LDBFXt"
      },
      "execution_count": 17,
      "outputs": []
    },
    {
      "cell_type": "code",
      "source": [
        "# Usando o FacetGrid para melhor visualização dos gráficos lado a lado,\n",
        "# quanto à regularidade das salas por Estados.\n",
        "g = sns.FacetGrid(df_cleaned, col=\"Regular\", height=4, aspect=2)\n",
        "g.map(sns.countplot, 'UF')\n",
        "# Adicionando rótulo comum ao eixo X\n",
        "g.set_xlabels('Estados')\n",
        "# Adicionando rótulo comum ao eixo Y\n",
        "g.set_ylabels('Quantidade de Salas')\n",
        "plt.show()"
      ],
      "metadata": {
        "colab": {
          "base_uri": "https://localhost:8080/",
          "height": 442
        },
        "id": "WC26B_EXi-4L",
        "outputId": "29ce1454-ff9c-44d0-9d92-54125cdfb52d"
      },
      "execution_count": 18,
      "outputs": [
        {
          "output_type": "stream",
          "name": "stderr",
          "text": [
            "/usr/local/lib/python3.10/dist-packages/seaborn/axisgrid.py:718: UserWarning: Using the countplot function without specifying `order` is likely to produce an incorrect plot.\n",
            "  warnings.warn(warning)\n"
          ]
        },
        {
          "output_type": "display_data",
          "data": {
            "text/plain": [
              "<Figure size 1600x400 with 2 Axes>"
            ],
            "image/png": "[encoded data removed]"
          },
          "metadata": {}
        }
      ]
    },
    {
      "cell_type": "markdown",
      "source": [
        "- Por último podemos criar um gráfico de dispersão com o método sns.scatterplot\n",
        "para analisar a relação entre o número de assentos para pessoas com Obesidade e a regularidade das salas, como um exemplo final dessa análise."
      ],
      "metadata": {
        "id": "EmjkHBp0HdRO"
      }
    },
    {
      "cell_type": "code",
      "source": [
        "# Gráfico de dispersão\n",
        "sns.scatterplot(x='Assentos para Obesos',y='Regular', hue='Regular', data=df_cleaned)\n",
        "#adicionando uma grade ao gráfico\n",
        "plt.grid(True)\n",
        "#nomeando os ticks do eixo y no intervalo de 0 a 1\n",
        "plt.yticks([0,1], ['Não', 'Sim'])\n",
        "#legenda do gráfico\n",
        "plt.legend(title='Regular', labels=['Sim', 'Não'])\n",
        "plt.title('Relação entre número de assentos para obesos e regularidade')\n",
        "plt.show()"
      ],
      "metadata": {
        "colab": {
          "base_uri": "https://localhost:8080/",
          "height": 472
        },
        "id": "qNqSsSVKjkIc",
        "outputId": "6c24e5ed-e58d-4816-8ef7-36273ddf6e85"
      },
      "execution_count": 19,
      "outputs": [
        {
          "output_type": "display_data",
          "data": {
            "text/plain": [
              "<Figure size 640x480 with 1 Axes>"
            ],
            "image/png": "[encoded data removed]"
          },
          "metadata": {}
        }
      ]
    },
    {
      "cell_type": "markdown",
      "source": [
        "- Como insight final podemos analisar a regularidade das salas no quesito de\n",
        "possuir ou não assentos para obesos. No intervalo de 0 a 20 assentos a diferença\n",
        "é quase imperceptível no número de salas, mas quando observamos o intervalo\n",
        "de 20 a 40 assentos, as salas regulares existem em quantidade muito superior, que atendem esse critério, enquanto que raramente salas irregulares possuem mais que 20 assentos que atendam usuários na condição proposta."
      ],
      "metadata": {
        "id": "uJ7x1YD4Imlf"
      }
    },
    {
      "cell_type": "markdown",
      "source": [
        "## 4\\. Conclusão"
      ],
      "metadata": {
        "id": "F2vXE2UUJ6Se"
      }
    },
    {
      "cell_type": "markdown",
      "source": [
        "Nesse projeto de análise exploratória de dados poderíamos até trabalhar com outros dados, como por exemplo número de salas em determinado município, explorar salas por determinado Estado da Federação específico, mais explorações quanto ao número de salas ou utilizar outras colunas que acabamos deixando de fora do DataFrame final. No entanto, o projeto final teve como principal escopo coletar dados brutos de um banco de dados público, fazer uma limpeza de dados, manipulação utilizando as bibliotecas nativas e externas do Python e, por fim, a visualização através de gráficos de diferentes situações.\n",
        "\n",
        "Para tanto tentei criar um Storytelling de Dados de maneira cadenciada e com o máximo de detalhes possível."
      ],
      "metadata": {
        "id": "tgCJz3NRJ_n1"
      }
    }
  ],
  "metadata": {
    "colab": {
      "provenance": [],
      "include_colab_link": true
    },
    "kernelspec": {
      "display_name": "Python 3 (ipykernel)",
      "language": "python",
      "name": "python3"
    },
    "language_info": {
      "codemirror_mode": {
        "name": "ipython",
        "version": 3
      },
      "file_extension": ".py",
      "mimetype": "text/x-python",
      "name": "python",
      "nbconvert_exporter": "python",
      "pygments_lexer": "ipython3",
      "version": "3.11.5"
    }
  },
  "nbformat": 4,
  "nbformat_minor": 0
}